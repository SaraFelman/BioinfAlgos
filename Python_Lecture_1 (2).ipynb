{
 "cells": [
  {
   "cell_type": "raw",
   "id": "15b6b339-fdd8-4ef7-8b19-11f5d2170a74",
   "metadata": {},
   "source": [
    "Материалы к занятиям"
   ]
  },
  {
   "cell_type": "markdown",
   "id": "465fac11-5fab-4e79-9c5e-c8623364b41b",
   "metadata": {},
   "source": [
    "Python Tutor https://pythontutor.com/ "
   ]
  },
  {
   "cell_type": "markdown",
   "id": "b5b959ce-fd2d-4551-88e7-fecf0b3110d0",
   "metadata": {
    "tags": []
   },
   "source": [
    "# Переменные"
   ]
  },
  {
   "cell_type": "markdown",
   "id": "e76c91dd-cc5c-4d5b-9f85-2e6d96826f69",
   "metadata": {},
   "source": [
    "Одна из самых основных концепций программирования это переменные. Переменные - поименнованные логические ячейки памяти. Помним, что программа - это алгоритм работы с нашими данные. Так вот, переменные это и есть наши данные. Часто разные авторы любят проводить аналогию, что переменные это некоторые коробки, которые имеют ярлыки с подписями. Переменная имеет имя и значение."
   ]
  },
  {
   "cell_type": "code",
   "execution_count": 1,
   "id": "484d8116-74f6-44e4-ba94-ab46514b0df2",
   "metadata": {},
   "outputs": [
    {
     "data": {
      "text/plain": [
       "'Dobroe utro'"
      ]
     },
     "execution_count": 1,
     "metadata": {},
     "output_type": "execute_result"
    }
   ],
   "source": [
    "hello = \"Dobroe utro\""
   ]
  },
  {
   "cell_type": "markdown",
   "id": "2a575bf4-7e97-4420-b6b3-a754d0084cee",
   "metadata": {},
   "source": [
    "Синтаксис очень простой: имя_переменной = значение. Символ ‘=’ называется оператором присваивания. "
   ]
  },
  {
   "cell_type": "markdown",
   "id": "ff20c1d0-0777-4b58-a960-5019b59358ab",
   "metadata": {},
   "source": [
    "Имена могут состоять из любой последовательности символов из алфавита латинских букв, цифр и символа нижнего подчеркивания, хотя есть некоторые ограничения:\n",
    "\n",
    "1) Имя не должно начинаться с цифры.\n",
    "\n",
    "2) Имя не должно быть зарезервированным словом."
   ]
  },
  {
   "cell_type": "code",
   "execution_count": 4,
   "id": "4939fe7a-3c8c-4a63-afca-76544d1aa15c",
   "metadata": {},
   "outputs": [],
   "source": [
    "#Примеры\n",
    "cat = 6\n",
    "meow_meow = \"meow\"\n",
    "_dog = False"
   ]
  },
  {
   "cell_type": "code",
   "execution_count": 3,
   "id": "f00a980b-337e-4a89-8144-e6012b560e0e",
   "metadata": {},
   "outputs": [
    {
     "ename": "SyntaxError",
     "evalue": "invalid syntax (2221459213.py, line 5)",
     "output_type": "error",
     "traceback": [
      "\u001b[0;36m  File \u001b[0;32m\"/scratch/ipykernel_1358375/2221459213.py\"\u001b[0;36m, line \u001b[0;32m5\u001b[0m\n\u001b[0;31m    56ghf = False # имя начинается с цифры\u001b[0m\n\u001b[0m      ^\u001b[0m\n\u001b[0;31mSyntaxError\u001b[0m\u001b[0;31m:\u001b[0m invalid syntax\n"
     ]
    }
   ],
   "source": [
    "# строки, начинающиеся с решетки, это комментарии\n",
    "# они игнорируются интерпретатором и служат подсказками для программистов\n",
    "# старайтесь писать комментарии!\n",
    "\n",
    "56ghf = False # имя начинается с цифры\n",
    "True = 1 # имя зарезервированное слово\n",
    "dfdf$qw@ = 1 #Содержит недопустимые символы"
   ]
  },
  {
   "cell_type": "code",
   "execution_count": 23,
   "id": "d32a0986-d208-4588-a927-6e770ea417ce",
   "metadata": {},
   "outputs": [
    {
     "data": {
      "text/plain": [
       "['False',\n",
       " 'None',\n",
       " 'True',\n",
       " '__peg_parser__',\n",
       " 'and',\n",
       " 'as',\n",
       " 'assert',\n",
       " 'async',\n",
       " 'await',\n",
       " 'break',\n",
       " 'class',\n",
       " 'continue',\n",
       " 'def',\n",
       " 'del',\n",
       " 'elif',\n",
       " 'else',\n",
       " 'except',\n",
       " 'finally',\n",
       " 'for',\n",
       " 'from',\n",
       " 'global',\n",
       " 'if',\n",
       " 'import',\n",
       " 'in',\n",
       " 'is',\n",
       " 'lambda',\n",
       " 'nonlocal',\n",
       " 'not',\n",
       " 'or',\n",
       " 'pass',\n",
       " 'raise',\n",
       " 'return',\n",
       " 'try',\n",
       " 'while',\n",
       " 'with',\n",
       " 'yield']"
      ]
     },
     "execution_count": 23,
     "metadata": {},
     "output_type": "execute_result"
    }
   ],
   "source": [
    "import keyword as kw\n",
    "kw.kwlist"
   ]
  },
  {
   "cell_type": "markdown",
   "id": "4d1e69dc-b299-4b9a-816e-abad99756163",
   "metadata": {},
   "source": [
    "### Дзен Питона"
   ]
  },
  {
   "cell_type": "code",
   "execution_count": 42,
   "id": "fe4e5c99-4a9d-4563-afa7-e678b6fd0371",
   "metadata": {},
   "outputs": [
    {
     "name": "stdout",
     "output_type": "stream",
     "text": [
      "The Zen of Python, by Tim Peters\n",
      "\n",
      "Beautiful is better than ugly.\n",
      "Explicit is better than implicit.\n",
      "Simple is better than complex.\n",
      "Complex is better than complicated.\n",
      "Flat is better than nested.\n",
      "Sparse is better than dense.\n",
      "Readability counts.\n",
      "Special cases aren't special enough to break the rules.\n",
      "Although practicality beats purity.\n",
      "Errors should never pass silently.\n",
      "Unless explicitly silenced.\n",
      "In the face of ambiguity, refuse the temptation to guess.\n",
      "There should be one-- and preferably only one --obvious way to do it.\n",
      "Although that way may not be obvious at first unless you're Dutch.\n",
      "Now is better than never.\n",
      "Although never is often better than *right* now.\n",
      "If the implementation is hard to explain, it's a bad idea.\n",
      "If the implementation is easy to explain, it may be a good idea.\n",
      "Namespaces are one honking great idea -- let's do more of those!\n"
     ]
    }
   ],
   "source": [
    "import this"
   ]
  },
  {
   "cell_type": "markdown",
   "id": "15e6afdc-aa19-445f-a2c9-2d77905ecb22",
   "metadata": {
    "tags": []
   },
   "source": [
    "## Типы переменных"
   ]
  },
  {
   "cell_type": "markdown",
   "id": "efe7ce90-c6d8-4231-8388-acf8cf9c1f29",
   "metadata": {},
   "source": [
    "Кроме имени переменной важно её значение. Python язык с динамической типизацией, т.е. тип переменной определяется по присваемому значению в момент присваивания. Если мы существующей переменной, присвоим значение другого типа, она изменит свой тип автоматически."
   ]
  },
  {
   "attachments": {
    "93bf0756-3ea6-4d44-a659-285056dbab7f.png": {
     "image/png": "[encoded data removed]"
    }
   },
   "cell_type": "markdown",
   "id": "0340bddc-1d21-47f6-a12d-fe47239e0c1c",
   "metadata": {},
   "source": [
    "![image.png](attachment:93bf0756-3ea6-4d44-a659-285056dbab7f.png)"
   ]
  },
  {
   "cell_type": "markdown",
   "id": "ba19e5de-c8f6-4b07-869c-725b88ed7f3e",
   "metadata": {},
   "source": [
    "Количество памяти, выделяемое на одну переменную, может отличаться от вида используемого интерпретатора: CPython (общепринятая), Jython, IronPython. К тому же, в зависимости от значения, интерпретатор может выделить автоматически необходимое количество памяти.\n",
    "\n",
    "Переменные можно из одного типа приводить к другому. Такая операция называется операцией приведения типов (type cast). Правила преобразования типов:\n",
    "\n",
    "1) Любой тип можно преобразовать в строку\n",
    "2) Любой тип можно преобразовать в логический тип: 0 или пустая строка будет False, остальные значения будут True\n",
    "3) Строку можно преобразовать в число, если она представляет из себя число и не содержит посторонних символов."
   ]
  },
  {
   "cell_type": "markdown",
   "id": "5f7d7a8f-cceb-4ee8-b89e-52e9b3628aa3",
   "metadata": {
    "tags": []
   },
   "source": [
    "## Функции"
   ]
  },
  {
   "cell_type": "markdown",
   "id": "efb2e2f4-ef08-40ed-b27a-a8f55d32b807",
   "metadata": {},
   "source": [
    "Другой важный концепт - функции. Так называют логически отделенную часть кода, имеющую имя и выполняющую определенные, заданные программистом операции. О том, как создавать функции поговорим на будущих занятиях. Сейчас важно знать, что у функции существует определение, где мы прописываем выполняемые операции, и вызовы, где мы выполняем эти операции. Функции призваны уменьшить дублирования кода.\n",
    "\n",
    "Синтаксис вызова функции простой: имя_функции (значение_параметра1, значение_параметра2)."
   ]
  },
  {
   "cell_type": "code",
   "execution_count": 22,
   "id": "e0702714-9bf5-480f-b3a6-237bbdb31e30",
   "metadata": {},
   "outputs": [
    {
     "name": "stdout",
     "output_type": "stream",
     "text": [
      "Введите число 123\n"
     ]
    }
   ],
   "source": [
    "inp = input(\"Введите число \")"
   ]
  },
  {
   "cell_type": "code",
   "execution_count": 2,
   "id": "e5f926a8-3caf-45c4-905f-08760db674d3",
   "metadata": {},
   "outputs": [
    {
     "name": "stdout",
     "output_type": "stream",
     "text": [
      "246\n",
      "t = \n",
      "        a\n",
      "246\n"
     ]
    }
   ],
   "source": [
    "print(123 + 123)\n",
    "a = 123 + 123\n",
    "\n",
    "print(\"\"\"t = \n",
    "        a\"\"\")\n",
    "print(a) #stroka vivodit peremenuu\n"
   ]
  },
  {
   "cell_type": "code",
   "execution_count": null,
   "id": "b3fdecf0-9507-456c-8c6a-aedf1ac081cc",
   "metadata": {},
   "outputs": [],
   "source": [
    "print(int(inp)+ 1)  #integer\n",
    "print(round(float(4)/3))#float"
   ]
  },
  {
   "cell_type": "code",
   "execution_count": 31,
   "id": "fb1da16b-710a-4ced-b28d-cce84fa24c1f",
   "metadata": {},
   "outputs": [
    {
     "name": "stdout",
     "output_type": "stream",
     "text": [
      "None это <class 'NoneType'>\n"
     ]
    }
   ],
   "source": [
    "a = None\n",
    "print(a,\"это\", type(a))"
   ]
  },
  {
   "cell_type": "code",
   "execution_count": 2,
   "id": "954b21df-301e-4429-a61b-4448bb62e5f7",
   "metadata": {},
   "outputs": [
    {
     "name": "stdout",
     "output_type": "stream",
     "text": [
      "Введите число -123\n",
      "-123 <class 'int'>\n"
     ]
    },
    {
     "data": {
      "text/plain": [
       "-3690"
      ]
     },
     "execution_count": 2,
     "metadata": {},
     "output_type": "execute_result"
    }
   ],
   "source": [
    "inp = int(input(\"Введите число \"))\n",
    "print(inp, type(inp))\n",
    "inp*30"
   ]
  },
  {
   "cell_type": "code",
   "execution_count": 33,
   "id": "6a91960d-d643-4d5a-8322-f410e9db3cb0",
   "metadata": {
    "scrolled": true
   },
   "outputs": [
    {
     "name": "stdout",
     "output_type": "stream",
     "text": [
      "This is \n",
      "\t This is a \"Cadillac\"\n"
     ]
    }
   ],
   "source": [
    "s1 = \"This is\"\n",
    "s2 = 'This is a \"Cadillac\"'\n",
    "print(s1,\"\\r\\n\\t\",s2)"
   ]
  },
  {
   "cell_type": "code",
   "execution_count": 34,
   "id": "ef04fdf3-129e-41ea-9d35-51494a8b04df",
   "metadata": {},
   "outputs": [
    {
     "name": "stdout",
     "output_type": "stream",
     "text": [
      "This is \n",
      " This is a \"Cadillac\"\n"
     ]
    }
   ],
   "source": [
    "s1 = \"This is\"\n",
    "s2 = 'This is a \"Cadillac\"'\n",
    "print(s1,\"\\n\",s2)"
   ]
  },
  {
   "cell_type": "markdown",
   "id": "7d240e08-6701-4013-ad88-19b1a096a716",
   "metadata": {
    "tags": []
   },
   "source": [
    "# Модули"
   ]
  },
  {
   "cell_type": "code",
   "execution_count": 35,
   "id": "726bc5de-30d7-4cc3-8536-04c7d93eccce",
   "metadata": {},
   "outputs": [
    {
     "data": {
      "text/plain": [
       "3.141592653589793"
      ]
     },
     "execution_count": 35,
     "metadata": {},
     "output_type": "execute_result"
    }
   ],
   "source": [
    "# import math as mt\n",
    "from math import *\n",
    "\n",
    "pi"
   ]
  },
  {
   "cell_type": "code",
   "execution_count": 36,
   "id": "03dd7538-94d8-4e4a-a4ca-76aa540d3979",
   "metadata": {},
   "outputs": [
    {
     "data": {
      "text/plain": [
       "'df'"
      ]
     },
     "execution_count": 36,
     "metadata": {},
     "output_type": "execute_result"
    }
   ],
   "source": [
    "import random\n",
    "\n",
    "random.random()\n",
    "random.randint(-5,5)\n",
    "my_list = [\"ss\",\"re\",\"df\",\"ri\"]\n",
    "random.choice(my_list)"
   ]
  },
  {
   "cell_type": "markdown",
   "id": "70d1432d-a2ba-4557-be9d-9873d06d3de9",
   "metadata": {
    "tags": []
   },
   "source": [
    "# [Числа](https://docs.python.org/3/library/stdtypes.html#numeric-types-int-float-complex)"
   ]
  },
  {
   "cell_type": "markdown",
   "id": "c23405f0-b3b4-4f37-95d5-e841482a44be",
   "metadata": {
    "tags": []
   },
   "source": [
    "## `int`"
   ]
  },
  {
   "cell_type": "code",
   "execution_count": 49,
   "id": "1b3fcae8-b68e-4c78-a00c-0deb27494030",
   "metadata": {},
   "outputs": [
    {
     "name": "stdout",
     "output_type": "stream",
     "text": [
      "value: 6, type: <class 'int'>\n"
     ]
    }
   ],
   "source": [
    "my_int = 6\n",
    "print(f\"value: {my_int}, type: {type(my_int)}\")"
   ]
  },
  {
   "cell_type": "markdown",
   "id": "4ddc1cf0-72b9-4545-bd33-a5455be503e7",
   "metadata": {},
   "source": [
    "## `float`"
   ]
  },
  {
   "cell_type": "code",
   "execution_count": 50,
   "id": "4127007b-d94d-4e4e-a7ef-afd7ada343e6",
   "metadata": {},
   "outputs": [
    {
     "name": "stdout",
     "output_type": "stream",
     "text": [
      "value: 6.0, type: <class 'float'>\n"
     ]
    }
   ],
   "source": [
    "my_float = float(my_int)\n",
    "print(f\"value: {my_float}, type: {type(my_float)}\")"
   ]
  },
  {
   "cell_type": "markdown",
   "id": "f3cf1826-cb7f-41bf-bb06-98497f250f51",
   "metadata": {},
   "source": [
    "**Напоминание:** деление целого числа типа `int` всегда дает результат типа `float`:"
   ]
  },
  {
   "cell_type": "code",
   "execution_count": 191,
   "id": "efb018ce-e626-4c19-a4de-e529a7962120",
   "metadata": {
    "collapsed": true,
    "jupyter": {
     "outputs_hidden": true
    },
    "tags": []
   },
   "outputs": [
    {
     "name": "stdout",
     "output_type": "stream",
     "text": [
      "1.0\n",
      "1.2\n"
     ]
    }
   ],
   "source": [
    "print(1 / 1)\n",
    "print(6 / 5)"
   ]
  },
  {
   "cell_type": "markdown",
   "id": "4d2ff8d6-d476-477b-8d3f-d9d140b29fa8",
   "metadata": {},
   "source": [
    "Есть некоторые подводные камни при работе с числами с плавающей запятой (см. информацию про модуль [Decimal](#decimal) ниже, чтобы обойти их):"
   ]
  },
  {
   "cell_type": "code",
   "execution_count": 192,
   "id": "070fda42-b271-49e5-8f70-1df83af3d0c4",
   "metadata": {
    "scrolled": true
   },
   "outputs": [
    {
     "name": "stdout",
     "output_type": "stream",
     "text": [
      "False\n",
      "0.30000000000000004\n"
     ]
    }
   ],
   "source": [
    "val = 0.1 + 0.1 + 0.1\n",
    "print(val == 0.3)\n",
    "print(val)"
   ]
  },
  {
   "cell_type": "markdown",
   "id": "e7056c22-ebc9-459c-ad1a-ac6d5413924e",
   "metadata": {
    "tags": []
   },
   "source": [
    "## Деление без остатка `//`,  возведение в степень `**`, остаток от деления `%`"
   ]
  },
  {
   "cell_type": "code",
   "execution_count": 12,
   "id": "b3db68db-c673-42d5-9d39-3c76b037b101",
   "metadata": {},
   "outputs": [
    {
     "data": {
      "text/plain": [
       "1"
      ]
     },
     "execution_count": 12,
     "metadata": {},
     "output_type": "execute_result"
    }
   ],
   "source": [
    "7 % 2"
   ]
  },
  {
   "cell_type": "code",
   "execution_count": 110,
   "id": "2c0cdd57-e596-4e93-9cd7-aa3969193869",
   "metadata": {},
   "outputs": [
    {
     "data": {
      "text/plain": [
       "5"
      ]
     },
     "execution_count": 110,
     "metadata": {},
     "output_type": "execute_result"
    }
   ],
   "source": [
    "11//2"
   ]
  },
  {
   "cell_type": "code",
   "execution_count": 56,
   "id": "1d8fb95d-d037-44dc-84ea-84241590bc2f",
   "metadata": {},
   "outputs": [
    {
     "data": {
      "text/plain": [
       "8"
      ]
     },
     "execution_count": 56,
     "metadata": {},
     "output_type": "execute_result"
    }
   ],
   "source": [
    "2**3"
   ]
  },
  {
   "cell_type": "markdown",
   "id": "0cc6f032-3c42-4795-afb4-3c58b3f09aa5",
   "metadata": {},
   "source": [
    "<a id='decimal'></a>\n",
    "## Модуль [`decimal.Decimal`](https://docs.python.org/3/library/decimal.html)"
   ]
  },
  {
   "cell_type": "code",
   "execution_count": 57,
   "id": "beb8a43b-053f-4628-9953-feb96334c288",
   "metadata": {},
   "outputs": [],
   "source": [
    "from decimal import Decimal"
   ]
  },
  {
   "cell_type": "code",
   "execution_count": 58,
   "id": "19fabfef-8b5a-42da-ba8b-6c855b5f0f8a",
   "metadata": {},
   "outputs": [
    {
     "name": "stdout",
     "output_type": "stream",
     "text": [
      "from float: 0.1000000000000000055511151231257827021181583404541015625\n",
      "from string: 0.1\n"
     ]
    }
   ],
   "source": [
    "from_float = Decimal(0.1)\n",
    "from_str = Decimal(\"0.1\")\n",
    "print(f\"from float: {from_float}\\nfrom string: {from_str}\")"
   ]
  },
  {
   "cell_type": "code",
   "execution_count": 59,
   "id": "ad875b0d-489d-4e64-96e7-497082948508",
   "metadata": {},
   "outputs": [
    {
     "name": "stdout",
     "output_type": "stream",
     "text": [
      "True\n"
     ]
    }
   ],
   "source": [
    "my_decimal = Decimal(\"0.1\")\n",
    "sum_of_decimals = my_decimal + my_decimal + my_decimal\n",
    "print(sum_of_decimals == Decimal(\"0.3\"))"
   ]
  },
  {
   "cell_type": "markdown",
   "id": "fe8045c0-e89c-43b1-a484-785527a484ae",
   "metadata": {
    "tags": []
   },
   "source": [
    "## Приоритет операторов в вычислениях\n",
    "В Python применяется математический приоритет операторов.  Если нужно изменить порядок выполнения, используйте скобки:"
   ]
  },
  {
   "cell_type": "code",
   "execution_count": 60,
   "id": "a5cce29e-1a98-46fa-bcb0-932212ff9a7b",
   "metadata": {
    "scrolled": true
   },
   "outputs": [
    {
     "name": "stdout",
     "output_type": "stream",
     "text": [
      "3.0\n",
      "2.5\n"
     ]
    }
   ],
   "source": [
    "print(1 + 2**2 * 3 / 6)  # 1 + 4 * 3 / 6 == 1 + 12 / 6 == 1 + 2\n",
    "print((1 + 2**2) * 3 / 6)"
   ]
  },
  {
   "cell_type": "code",
   "execution_count": 49,
   "id": "1d987dae-afd3-4b97-9c2a-12f5b133656d",
   "metadata": {},
   "outputs": [
    {
     "name": "stdout",
     "output_type": "stream",
     "text": [
      "2\n"
     ]
    }
   ],
   "source": [
    "temp1 = 33\n",
    "temp2 = 27\n",
    "temp3 = 404\n",
    "\n",
    "temp_mean = (temp1 + temp2 + temp3) / 3\n",
    "#print(temp1, temp2, temp3, round(temp_mean), sep=\"\\t\")\n",
    "print((temp1 * temp2 + temp3) % 3)"
   ]
  },
  {
   "cell_type": "markdown",
   "id": "92e316be-4f71-4a44-92c2-889fa383b857",
   "metadata": {
    "tags": []
   },
   "source": [
    "# [Строки](https://docs.python.org/3/library/stdtypes.html#text-sequence-type-str)"
   ]
  },
  {
   "cell_type": "code",
   "execution_count": 161,
   "id": "059723d1-c28b-4bd6-9b46-71db2c804ee2",
   "metadata": {},
   "outputs": [],
   "source": [
    "my_string = \"Python is the best programming language!\""
   ]
  },
  {
   "cell_type": "code",
   "execution_count": 162,
   "id": "4ac5170f-2986-4293-afc9-977afeae875c",
   "metadata": {
    "tags": []
   },
   "outputs": [
    {
     "data": {
      "text/plain": [
       "'Python is the best programming language!'"
      ]
     },
     "execution_count": 162,
     "metadata": {},
     "output_type": "execute_result"
    }
   ],
   "source": [
    "my_string"
   ]
  },
  {
   "cell_type": "code",
   "execution_count": 163,
   "id": "dd87fedc-ede4-4e54-90cf-611044feded1",
   "metadata": {},
   "outputs": [
    {
     "data": {
      "text/plain": [
       "str"
      ]
     },
     "execution_count": 163,
     "metadata": {},
     "output_type": "execute_result"
    }
   ],
   "source": [
    "type(my_string)"
   ]
  },
  {
   "cell_type": "code",
   "execution_count": 4,
   "id": "cedcda49-bbe1-4bd9-9715-9e7ecd5c11de",
   "metadata": {},
   "outputs": [
    {
     "data": {
      "text/plain": [
       "40"
      ]
     },
     "execution_count": 4,
     "metadata": {},
     "output_type": "execute_result"
    }
   ],
   "source": [
    "len(my_string)"
   ]
  },
  {
   "cell_type": "code",
   "execution_count": 40,
   "id": "6a1c479c-1e2c-4142-a487-39bfe732dbd2",
   "metadata": {},
   "outputs": [
    {
     "data": {
      "text/plain": [
       "'Python the best!'"
      ]
     },
     "execution_count": 40,
     "metadata": {},
     "output_type": "execute_result"
    }
   ],
   "source": [
    "my_string = \"Python is the best programming language!\"\n",
    "#Обращение к первому символу строки\n",
    "my_string[0]\n",
    "#Срез строки\n",
    "my_string[0:6]\n",
    "#Конкатенация строк\n",
    "my_string[0:6] + \" \" + my_string[10:18] + my_string[-1] \n"
   ]
  },
  {
   "cell_type": "markdown",
   "id": "29323fe7-a406-4be2-8591-79132ac44558",
   "metadata": {
    "tags": []
   },
   "source": [
    "### Соблюдаем правила [PEP8](https://www.python.org/dev/peps/pep-0008/#maximum-line-length) при работе с длинной строкой"
   ]
  },
  {
   "cell_type": "code",
   "execution_count": 6,
   "id": "ae757362-e0a4-43d0-bbd8-e3a2d59979e3",
   "metadata": {
    "tags": []
   },
   "outputs": [
    {
     "name": "stdout",
     "output_type": "stream",
     "text": [
      "\n",
      "    \"The Zen of Python, некоторые строки на русском языке\"\n",
      "    \"Beautiful is better than ugly.\"\n",
      "    \"Простое лучше, чем сложное.\"\n",
      "    \"Сейчас лучше, чем никогда.\"\n",
      "    \"Хотя никогда зачастую лучше, чем прямо сейчас.\"   \n",
      "    \n"
     ]
    },
    {
     "data": {
      "text/plain": [
       "'\\n    \"The Zen of Python, некоторые строки на русском языке\"\\n    \"Beautiful is better than ugly.\"\\n    \"Простое лучше, чем сложное.\"\\n    \"Сейчас лучше, чем никогда.\"\\n    \"Хотя никогда зачастую лучше, чем прямо сейчас.\"   \\n    '"
      ]
     },
     "execution_count": 6,
     "metadata": {},
     "output_type": "execute_result"
    }
   ],
   "source": [
    "#\n",
    "long_story = (\"\"\"\n",
    "    \"The Zen of Python, некоторые строки на русском языке\"\n",
    "    \"Beautiful is better than ugly.\"\n",
    "    \"Простое лучше, чем сложное.\"\n",
    "    \"Сейчас лучше, чем никогда.\"\n",
    "    \"Хотя никогда зачастую лучше, чем прямо сейчас.\"   \n",
    "    \"\"\")\n",
    "print(long_story)\n",
    "long_story\n"
   ]
  },
  {
   "cell_type": "markdown",
   "id": "24d629fb-16a4-4b89-9ee4-ef10d374ecb4",
   "metadata": {
    "tags": []
   },
   "source": [
    "## f-строки"
   ]
  },
  {
   "cell_type": "code",
   "execution_count": 2,
   "id": "560689e0-15c2-4e81-bea1-c08c2def430c",
   "metadata": {},
   "outputs": [
    {
     "name": "stdout",
     "output_type": "stream",
     "text": [
      "My name is John Wick, you can call me John.\n",
      "I'm 60 years old.\n"
     ]
    }
   ],
   "source": [
    "first_name = \"John\"\n",
    "last_name = \"Wick\"\n",
    "age = 60\n",
    "var = 1000\n",
    "print(f\"My name is {first_name} {last_name}, you can call me {first_name}.\")\n",
    "print(f\"I'm {age} years old.\")"
   ]
  },
  {
   "cell_type": "code",
   "execution_count": 4,
   "id": "075964dd-2596-44c8-aefd-c039d692c02d",
   "metadata": {},
   "outputs": [
    {
     "name": "stdout",
     "output_type": "stream",
     "text": [
      "Use '=' to also print the variable name like this: var=1000\n"
     ]
    }
   ],
   "source": [
    "print(f\"Use '=' to also print the variable name like this: {var=}\")"
   ]
  },
  {
   "cell_type": "code",
   "execution_count": 5,
   "id": "0daca9ac-8519-4454-9f0f-87160f9ba869",
   "metadata": {},
   "outputs": [
    {
     "name": "stdout",
     "output_type": "stream",
     "text": [
      "Use '=' to also print the variable name like this: var=1000\n"
     ]
    }
   ],
   "source": [
    "print(f\"Use '=' to also print the variable name like this: var={var}\")"
   ]
  },
  {
   "cell_type": "code",
   "execution_count": 41,
   "id": "1ee469bb-d696-4c1c-b0f3-6cc537bf82d5",
   "metadata": {},
   "outputs": [
    {
     "name": "stdout",
     "output_type": "stream",
     "text": [
      "My name is John Wick, you can call me Baba-yaga.\n"
     ]
    }
   ],
   "source": [
    "first_name = \"John\"\n",
    "last_name = \"Wick\"\n",
    "age = 60\n",
    "var = 1000\n",
    "print(\"My name is %s %s, you can call me %s.\" % (first_name, last_name, \"Baba-yaga\"))\n"
   ]
  },
  {
   "cell_type": "markdown",
   "id": "8a81bf9d-a1ad-4da8-ba67-fbd629de8b35",
   "metadata": {
    "tags": []
   },
   "source": [
    "# Применение условий"
   ]
  },
  {
   "cell_type": "markdown",
   "id": "b4e24d0c-e27a-45f4-9a99-5eb4f2c008f1",
   "metadata": {
    "tags": []
   },
   "source": [
    "## Проверка истинности"
   ]
  },
  {
   "cell_type": "markdown",
   "id": "a212d434-e650-4c84-ae17-2bff1d14dcd6",
   "metadata": {
    "tags": []
   },
   "source": [
    "### `bool`"
   ]
  },
  {
   "cell_type": "code",
   "execution_count": 193,
   "id": "c1a997d6-331f-4445-b2b6-b96af825f855",
   "metadata": {},
   "outputs": [
    {
     "name": "stdout",
     "output_type": "stream",
     "text": [
      "type of True and False: <class 'bool'>\n"
     ]
    }
   ],
   "source": [
    "print(f\"type of True and False: {type(True)}\")"
   ]
  },
  {
   "cell_type": "markdown",
   "id": "c4036688-e985-4008-9c00-4fccb15e51d5",
   "metadata": {},
   "source": [
    "### `==, !=, >, <, >=, <=`"
   ]
  },
  {
   "cell_type": "code",
   "execution_count": 64,
   "id": "63cd4d94-b355-4846-bece-dbbdc328967e",
   "metadata": {},
   "outputs": [
    {
     "name": "stdout",
     "output_type": "stream",
     "text": [
      "False\n",
      "True\n",
      "True\n",
      "False\n",
      "False\n",
      "False\n",
      "True\n",
      "True\n",
      "False\n",
      "True\n"
     ]
    }
   ],
   "source": [
    "print(f\"{1 == 0}\")\n",
    "print(f\"{1 != 0}\")\n",
    "print(f\"{1 > 0}\")\n",
    "print(f\"{1 > 1}\")\n",
    "print(f\"{1 < 0}\")\n",
    "print(f\"{1 < 1}\")\n",
    "print(f\"{1 >= 0}\")\n",
    "print(f\"{1 >= 1}\")\n",
    "print(f\"{1 <= 0}\")\n",
    "print(f\"{1 <= 1}\")"
   ]
  },
  {
   "cell_type": "markdown",
   "id": "e3b14025-1c4c-40cc-9c97-1f57cb1d4e09",
   "metadata": {},
   "source": [
    "Условные операторы можно комбинировать:"
   ]
  },
  {
   "cell_type": "code",
   "execution_count": 197,
   "id": "6d3c148c-70f8-4a85-a2ca-e3bbad302080",
   "metadata": {},
   "outputs": [
    {
     "name": "stdout",
     "output_type": "stream",
     "text": [
      "True\n"
     ]
    }
   ],
   "source": [
    "print(f\"{1 <= 2 <= 3}\")"
   ]
  },
  {
   "cell_type": "markdown",
   "id": "32708c0a-c556-40dc-b4c3-3c6a2592e0c0",
   "metadata": {},
   "source": [
    "### `and, or, not`"
   ]
  },
  {
   "cell_type": "code",
   "execution_count": 17,
   "id": "22bc36bb-ae37-4958-bed6-801f9a6dcf68",
   "metadata": {},
   "outputs": [],
   "source": [
    "python_is_cool = True\n",
    "java_is_cool = False\n",
    "empty_list = []\n",
    "secret_value = 3.11"
   ]
  },
  {
   "cell_type": "code",
   "execution_count": 18,
   "id": "dea9dce1-fb73-4e19-88b2-05d7c60437e6",
   "metadata": {},
   "outputs": [
    {
     "name": "stdout",
     "output_type": "stream",
     "text": [
      "Python and java are both cool: False\n",
      "secret_value and python_is_cool: True\n"
     ]
    }
   ],
   "source": [
    "print(f\"Python and java are both cool: {python_is_cool and java_is_cool}\")\n",
    "print(f\"secret_value and python_is_cool: {secret_value and python_is_cool}\")"
   ]
  },
  {
   "cell_type": "code",
   "execution_count": 20,
   "id": "609b6d55-379f-49ee-95f8-3a47caf867fa",
   "metadata": {},
   "outputs": [
    {
     "name": "stdout",
     "output_type": "stream",
     "text": [
      "Python or java is cool: True\n",
      "1 >= 1.1 and 2 < 1.4 False\n"
     ]
    }
   ],
   "source": [
    "print(f\"Python or java is cool: {python_is_cool or java_is_cool}\")\n",
    "print(f\"1 >= 1.1 and 2 < 1.4 {secret_value >= 1.1 and secret_value < 1.4}\")"
   ]
  },
  {
   "cell_type": "code",
   "execution_count": 21,
   "id": "322e5300-7d42-4731-a09b-5b3ef4f8f2c6",
   "metadata": {},
   "outputs": [
    {
     "name": "stdout",
     "output_type": "stream",
     "text": [
      "Java is not cool: True\n"
     ]
    }
   ],
   "source": [
    "print(f\"Java is not cool: {not java_is_cool}\")"
   ]
  },
  {
   "cell_type": "markdown",
   "id": "5388e54d-0d49-4f5f-9a6d-a0ce7c17ed3c",
   "metadata": {},
   "source": [
    "Можно объединить несколько операторов, при этом будет соблюдаться порядок выполнения слева направо. Порядок выполнения можно контролировать, используя скобки."
   ]
  },
  {
   "cell_type": "code",
   "execution_count": 22,
   "id": "f25b2094-755f-4a17-8b25-ccd1d25dbd5f",
   "metadata": {},
   "outputs": [
    {
     "name": "stdout",
     "output_type": "stream",
     "text": [
      "True\n",
      "False\n"
     ]
    }
   ],
   "source": [
    "print(bool(not java_is_cool or secret_value and python_is_cool or empty_list))\n",
    "print(bool(not (java_is_cool or secret_value and python_is_cool or empty_list)))"
   ]
  },
  {
   "cell_type": "markdown",
   "id": "40e76010-1036-4aa1-a648-1f8977a85c42",
   "metadata": {
    "tags": []
   },
   "source": [
    "## Условный оператор `if`"
   ]
  },
  {
   "cell_type": "markdown",
   "id": "bf2ad264-7ae1-45a7-a0af-21d92305a8ef",
   "metadata": {},
   "source": [
    "Обратите внимание, что тело условия (код, который выполняется при соблюдении условия) `имеет некоторое количество отступов от самого условия!`"
   ]
  },
  {
   "cell_type": "code",
   "execution_count": 23,
   "id": "b5c1caa6-c455-4d9f-9619-cc519e378de4",
   "metadata": {},
   "outputs": [
    {
     "name": "stdout",
     "output_type": "stream",
     "text": [
      "statement is True\n"
     ]
    }
   ],
   "source": [
    "statement = True\n",
    "if statement:\n",
    "    print(\"statement is True\")\n",
    "\n",
    "if not statement:\n",
    "    print(\"statement is not True\")"
   ]
  },
  {
   "cell_type": "markdown",
   "id": "86dbf7b0-d608-4d3d-a869-7fe99472f69d",
   "metadata": {},
   "source": [
    "После каждого объявления - синтаксической конструкции, заканчивающиеся двоеточием, нижележащий код должен отстоять от него на фиксированное количество отступов. Обычно это либо 1 знак табуляции, либо 4 пробела. Среды разработки, как правило, следят за этим нюансом.Этот нюанс крайне важен, так как только так интерпретатор понимает, где начинается и где заканчивается тело условия, цикла или других конструкций. Чтобы закончить условие вам нужно просто начать писать код на прежнем уровне отступа от левого края. Причем количество отступов должно быть везде одинаково. "
   ]
  },
  {
   "cell_type": "code",
   "execution_count": 201,
   "id": "ed27a52b-18bf-4cd1-99f3-bc03c9771372",
   "metadata": {},
   "outputs": [
    {
     "name": "stdout",
     "output_type": "stream",
     "text": [
      "Done!\n"
     ]
    }
   ],
   "source": [
    "empty_list = []\n",
    "# With if and elif, conversion to `bool` is implicit\n",
    "if empty_list:\n",
    "    print(\"empty list will not evaluate to True\")  # this won't be executed\n",
    "print(\"Done!\")"
   ]
  },
  {
   "cell_type": "code",
   "execution_count": 202,
   "id": "7cd9a885-6cbf-48c5-81c5-aea388550a8f",
   "metadata": {},
   "outputs": [
    {
     "name": "stdout",
     "output_type": "stream",
     "text": [
      "Value is positive and less than one or value is three\n"
     ]
    }
   ],
   "source": [
    "val = 3\n",
    "if 0 <= val < 1 or val == 3:\n",
    "    print(\"Value is positive and less than one or value is three\")"
   ]
  },
  {
   "cell_type": "markdown",
   "id": "7fdef340-f1b3-4061-9395-5b401bfc60e9",
   "metadata": {
    "tags": []
   },
   "source": [
    "## Конструкция `if-else`"
   ]
  },
  {
   "cell_type": "code",
   "execution_count": 24,
   "id": "36bc0294-fdde-4871-a89c-65e781b953ba",
   "metadata": {},
   "outputs": [
    {
     "name": "stdout",
     "output_type": "stream",
     "text": [
      "мой словарь пуст :(\n"
     ]
    }
   ],
   "source": [
    "my_dict = {}\n",
    "if my_dict:\n",
    "    print(\"в моем словаре что-то есть\")\n",
    "else:\n",
    "    print(\"мой словарь пуст :(\")"
   ]
  },
  {
   "cell_type": "markdown",
   "id": "c01afc97-c417-4abd-b5f4-2d96ed1658ae",
   "metadata": {
    "tags": []
   },
   "source": [
    "## Конструкция `if-elif-else`"
   ]
  },
  {
   "cell_type": "code",
   "execution_count": 25,
   "id": "b3bb239e-681c-4fc4-a61a-9c92b37f20b4",
   "metadata": {},
   "outputs": [
    {
     "name": "stdout",
     "output_type": "stream",
     "text": [
      "Значение больше 10 но меньше 100\n"
     ]
    }
   ],
   "source": [
    "val = 88\n",
    "if val >= 100:\n",
    "    print(\"Значение равно или больше 100\")\n",
    "elif val > 10:\n",
    "    print(\"Значение больше 10 но меньше 100\")\n",
    "else:\n",
    "    print(\"Значение равно или меньше 10\")"
   ]
  },
  {
   "cell_type": "markdown",
   "id": "066b0d5f-db20-4bce-9138-bec9ab7dfb9c",
   "metadata": {},
   "source": [
    "Можно использовать сколько угодно операторов `elif`. А оператор `else` не обязательно использовать в этой конструкции."
   ]
  },
  {
   "cell_type": "code",
   "execution_count": 207,
   "id": "4018b29f-dc05-4720-a587-09f4d2b352a5",
   "metadata": {},
   "outputs": [
    {
     "name": "stdout",
     "output_type": "stream",
     "text": [
      "Приветствую тебя, Землянин!\n"
     ]
    }
   ],
   "source": [
    "greeting = \"Hello fellow Pythonista!\"\n",
    "language = \"Russian\"\n",
    "\n",
    "if language == \"Swedish\":\n",
    "    greeting = \"Hejsan!\"\n",
    "elif language == \"Finnish\":\n",
    "    greeting = \"Latua perkele!\"\n",
    "elif language == \"Spanish\":\n",
    "    greeting = \"Hola!\"\n",
    "elif language == \"German\":\n",
    "    greeting = \"Guten Tag!\"\n",
    "elif language == \"Russian\":\n",
    "    greeting = \"Приветствую тебя, Землянин!\"\n",
    "\n",
    "print(greeting)"
   ]
  },
  {
   "cell_type": "markdown",
   "id": "e9ebd8b6-2c08-4517-a088-a9dcec2a4395",
   "metadata": {},
   "source": [
    "1) Условие начинается с ключевого слова “если”, затем идет логическое выскаызвание и двоеточие\n",
    "2) Если первое условие не выполняется, идет проверка по цепи ветвления. elif сокращенно else if - “иначе если”\n",
    "3) Таких блоков может быть от 0 до бесконечности\n",
    "4) Если ни одно из условий не выполняется, то выполняется код в блоке else, который также является не обязательным\n",
    "\n",
    "Более детально про условные конструкции можно найти, например, на странице [tutorial from Real Python](https://realpython.com/python-conditional-statements/)."
   ]
  },
  {
   "cell_type": "markdown",
   "id": "8b8c63ec-7664-46f8-bdbb-47ad6c370253",
   "metadata": {
    "tags": []
   },
   "source": [
    "# [Циклы `for`](https://docs.python.org/3/tutorial/controlflow.html#for-statements)"
   ]
  },
  {
   "cell_type": "markdown",
   "id": "dd6c85ed-6bcd-42b4-8039-0726eec49ce3",
   "metadata": {
    "tags": []
   },
   "source": [
    "## Функция `range()`"
   ]
  },
  {
   "cell_type": "code",
   "execution_count": 26,
   "id": "ff83d842-3290-4fcb-923e-09ef7f2d3860",
   "metadata": {},
   "outputs": [
    {
     "name": "stdout",
     "output_type": "stream",
     "text": [
      "0\n",
      "1\n",
      "2\n",
      "3\n",
      "4\n"
     ]
    }
   ],
   "source": [
    "for number in range(5):\n",
    "    print(number)"
   ]
  },
  {
   "cell_type": "code",
   "execution_count": 27,
   "id": "43c36196-c735-4598-a74c-ec848cf6435f",
   "metadata": {},
   "outputs": [
    {
     "name": "stdout",
     "output_type": "stream",
     "text": [
      "2\n",
      "3\n",
      "4\n"
     ]
    }
   ],
   "source": [
    "for number in range(2, 5):\n",
    "    print(number)"
   ]
  },
  {
   "cell_type": "code",
   "execution_count": 28,
   "id": "941b64c5-f70d-4e84-9ea7-ad56e1412d79",
   "metadata": {},
   "outputs": [
    {
     "name": "stdout",
     "output_type": "stream",
     "text": [
      "0\n",
      "2\n",
      "4\n",
      "6\n",
      "8\n"
     ]
    }
   ],
   "source": [
    "for number in range(0, 10, 2):  # последний параметр - шаг\n",
    "    print(number)"
   ]
  },
  {
   "cell_type": "code",
   "execution_count": 15,
   "id": "52c17d66-068d-4e30-9d3c-6e3e51763f66",
   "metadata": {},
   "outputs": [
    {
     "name": "stdout",
     "output_type": "stream",
     "text": [
      "this looks bad\n"
     ]
    }
   ],
   "source": [
    "pretty = ugly_mixed_case.replace(\"bad\", \"good\").strip().lower()\n",
    "print(pretty)"
   ]
  },
  {
   "cell_type": "markdown",
   "id": "c5811166-d26b-4ee0-8410-e16a58d1fd17",
   "metadata": {
    "tags": []
   },
   "source": [
    "# [Строки продолжение](https://docs.python.org/3/library/stdtypes.html#text-sequence-type-str)"
   ]
  },
  {
   "cell_type": "markdown",
   "id": "6872f890-8fb5-4087-a0f7-402c4b451599",
   "metadata": {
    "tags": []
   },
   "source": [
    "## Метод строк `str.replace()`"
   ]
  },
  {
   "cell_type": "markdown",
   "id": "0d303771-5bb5-493c-8aaf-0358f19e94e0",
   "metadata": {},
   "source": [
    "Для того, чтобы разобраться как что-то работает, нужно использовать `help`:"
   ]
  },
  {
   "cell_type": "code",
   "execution_count": 7,
   "id": "3033e656-d3ab-40b8-a0ab-8eb53c15f63c",
   "metadata": {},
   "outputs": [
    {
     "name": "stdout",
     "output_type": "stream",
     "text": [
      "Help on method_descriptor:\n",
      "\n",
      "replace(self, old, new, count=-1, /)\n",
      "    Return a copy with all occurrences of substring old replaced by new.\n",
      "    \n",
      "      count\n",
      "        Maximum number of occurrences to replace.\n",
      "        -1 (the default value) means replace all occurrences.\n",
      "    \n",
      "    If the optional argument count is given, only the first count occurrences are\n",
      "    replaced.\n",
      "\n"
     ]
    }
   ],
   "source": [
    "help(str.replace)"
   ]
  },
  {
   "cell_type": "markdown",
   "id": "79b518c3-7d8c-43cc-869b-fa86f16c5474",
   "metadata": {},
   "source": [
    "Следующий код не изменит строку `my_string` т.к. замена не выполняется с текущим объектом."
   ]
  },
  {
   "cell_type": "code",
   "execution_count": 166,
   "id": "6c7bae0d-b79a-4e6e-b0ba-faf947824e9e",
   "metadata": {},
   "outputs": [
    {
     "data": {
      "text/plain": [
       "'Python is the best progr*mming l*ngu*ge!'"
      ]
     },
     "execution_count": 166,
     "metadata": {},
     "output_type": "execute_result"
    }
   ],
   "source": [
    "my_string.replace(\"a\", \"*\")\n",
    "#print(my_string)"
   ]
  },
  {
   "cell_type": "code",
   "execution_count": 167,
   "id": "46bfd4f1-dd30-47bc-ae9d-79aa4c433a54",
   "metadata": {},
   "outputs": [
    {
     "data": {
      "text/plain": [
       "'Python is the best programming language!'"
      ]
     },
     "execution_count": 167,
     "metadata": {},
     "output_type": "execute_result"
    }
   ],
   "source": [
    "my_string"
   ]
  },
  {
   "cell_type": "markdown",
   "id": "16864ff5-759a-4428-a7aa-37cb6ba51990",
   "metadata": {},
   "source": [
    "Для использования замененной строки нужно сначала записать результат работы `replace` в переменную."
   ]
  },
  {
   "cell_type": "code",
   "execution_count": 168,
   "id": "f25b7722-4e39-4e37-acb6-66771119f971",
   "metadata": {},
   "outputs": [
    {
     "data": {
      "text/plain": [
       "'Python will be the best programming language!'"
      ]
     },
     "execution_count": 168,
     "metadata": {},
     "output_type": "execute_result"
    }
   ],
   "source": [
    "my_modified_string = my_string.replace(\"is\", \"will be\")\n",
    "my_modified_string"
   ]
  },
  {
   "cell_type": "markdown",
   "id": "1df12bfb-911b-4f42-8fe3-f0fb76c751cb",
   "metadata": {
    "tags": []
   },
   "source": [
    "## Метод строк `str.join()`"
   ]
  },
  {
   "cell_type": "code",
   "execution_count": 19,
   "id": "fb789cf8-c0ae-4b5a-9501-be8914150b68",
   "metadata": {},
   "outputs": [],
   "source": [
    "pandas = \"pandas\"\n",
    "numpy = \"numpy\"\n",
    "requests = \"requests\"\n",
    "cool_python_libs = \", \".join([pandas, numpy, requests])"
   ]
  },
  {
   "cell_type": "code",
   "execution_count": 20,
   "id": "2b6c95d9-b591-436f-83d4-e50a69411d50",
   "metadata": {},
   "outputs": [
    {
     "name": "stdout",
     "output_type": "stream",
     "text": [
      "Some cool python libraries: pandas, numpy, requests\n"
     ]
    }
   ],
   "source": [
    "print(f\"Some cool python libraries: {cool_python_libs}\")"
   ]
  },
  {
   "cell_type": "markdown",
   "id": "22ad3f68-360f-4156-b786-5c546b1cd170",
   "metadata": {},
   "source": [
    "Другой вариант (не по [Питонски](http://docs.python-guide.org/en/latest/writing/style/#idioms) и работает [медленее](https://waymoot.org/home/python_string/)):"
   ]
  },
  {
   "cell_type": "code",
   "execution_count": 170,
   "id": "e9f8c84e-4348-4afa-877d-3738f0984ffd",
   "metadata": {},
   "outputs": [
    {
     "name": "stdout",
     "output_type": "stream",
     "text": [
      "Some cool python libraries: pandas, numpy, requests\n",
      "Some cool python libraries: pandas, numpy, requests\n"
     ]
    }
   ],
   "source": [
    "cool_python_libs = pandas + \", \" + numpy + \", \" + requests\n",
    "print(f\"Some cool python libraries: {cool_python_libs}\")\n",
    "\n",
    "cool_python_libs = pandas\n",
    "cool_python_libs += \", \" + numpy\n",
    "cool_python_libs += \", \" + requests\n",
    "print(f\"Some cool python libraries: {cool_python_libs}\")"
   ]
  },
  {
   "cell_type": "markdown",
   "id": "3c6e5594-de5d-41e3-9346-d34f00341cd4",
   "metadata": {
    "tags": []
   },
   "source": [
    "## Методы строк `str.upper(), str.lower(), str.title()`"
   ]
  },
  {
   "cell_type": "code",
   "execution_count": 171,
   "id": "4c9d8dd6-c50e-410d-8c83-e7e3fb81aca8",
   "metadata": {},
   "outputs": [],
   "source": [
    "mixed_case = \"PyTHoN hackER\""
   ]
  },
  {
   "cell_type": "code",
   "execution_count": 172,
   "id": "09d04135-303d-4519-aaca-e0c771674d4b",
   "metadata": {},
   "outputs": [
    {
     "data": {
      "text/plain": [
       "'PYTHON HACKER'"
      ]
     },
     "execution_count": 172,
     "metadata": {},
     "output_type": "execute_result"
    }
   ],
   "source": [
    "mixed_case.upper()"
   ]
  },
  {
   "cell_type": "code",
   "execution_count": 173,
   "id": "6180de67-439b-4e77-880f-ff74013fdefa",
   "metadata": {},
   "outputs": [
    {
     "data": {
      "text/plain": [
       "'python hacker'"
      ]
     },
     "execution_count": 173,
     "metadata": {},
     "output_type": "execute_result"
    }
   ],
   "source": [
    "mixed_case.lower()"
   ]
  },
  {
   "cell_type": "code",
   "execution_count": 174,
   "id": "d7bb5265-0de6-424d-9d5c-6d0892fdae15",
   "metadata": {},
   "outputs": [
    {
     "data": {
      "text/plain": [
       "'Python Hacker'"
      ]
     },
     "execution_count": 174,
     "metadata": {},
     "output_type": "execute_result"
    }
   ],
   "source": [
    "mixed_case.title()"
   ]
  },
  {
   "cell_type": "markdown",
   "id": "84e28283-c5b7-4885-affd-ed274490331d",
   "metadata": {
    "tags": []
   },
   "source": [
    "## Метод строк `str.strip()`"
   ]
  },
  {
   "cell_type": "code",
   "execution_count": 175,
   "id": "faeb7fbe-2288-45c9-a24f-840d14dbdad7",
   "metadata": {},
   "outputs": [
    {
     "name": "stdout",
     "output_type": "stream",
     "text": [
      "ugly:  \n",
      "\n",
      "\t\t\tКакая-то история, которая должна быть рассказана\n",
      "\n",
      "stripped: Какая-то история, которая должна быть рассказана\n"
     ]
    }
   ],
   "source": [
    "ugly_formatted = \" \\n\\n\\t\\t\\tКакая-то история, которая должна быть рассказана\\n\"\n",
    "stripped = ugly_formatted.strip()\n",
    "\n",
    "print(f\"ugly: {ugly_formatted}\")\n",
    "print(f\"stripped: {stripped}\")"
   ]
  },
  {
   "cell_type": "markdown",
   "id": "9f6b8537-332b-4eda-90ed-eaa32a0d4b50",
   "metadata": {
    "tags": []
   },
   "source": [
    "## Метод строк `str.split()`"
   ]
  },
  {
   "cell_type": "code",
   "execution_count": 34,
   "id": "b92037a0-385b-454e-9ea1-f0e973be30c6",
   "metadata": {},
   "outputs": [
    {
     "name": "stdout",
     "output_type": "stream",
     "text": [
      "['Здесь', 'три', 'слова']\n"
     ]
    }
   ],
   "source": [
    "sentence = \"Здесь три слова\"\n",
    "words = sentence.split()\n",
    "print(words)"
   ]
  },
  {
   "cell_type": "code",
   "execution_count": 176,
   "id": "5da88901-3d4e-41eb-bf91-502b755af219",
   "metadata": {},
   "outputs": [
    {
     "name": "stdin",
     "output_type": "stream",
     "text": [
      " 12 tr 56 sd 86\n"
     ]
    },
    {
     "data": {
      "text/plain": [
       "['12', 'tr', '56', 'sd', '86']"
      ]
     },
     "execution_count": 176,
     "metadata": {},
     "output_type": "execute_result"
    }
   ],
   "source": [
    "inp = input().split()\n",
    "inp"
   ]
  },
  {
   "cell_type": "code",
   "execution_count": 178,
   "id": "091762f1-25e1-4eb2-bd7f-847663ffe5b9",
   "metadata": {},
   "outputs": [
    {
     "data": {
      "text/plain": [
       "list"
      ]
     },
     "execution_count": 178,
     "metadata": {},
     "output_type": "execute_result"
    }
   ],
   "source": [
    "type(words)"
   ]
  },
  {
   "cell_type": "code",
   "execution_count": 179,
   "id": "102167d0-c1f7-4fe4-a43c-d264b925f73e",
   "metadata": {},
   "outputs": [
    {
     "name": "stdout",
     "output_type": "stream",
     "text": [
      "['01001', '101101', '11100000']\n"
     ]
    }
   ],
   "source": [
    "secret_binary_data = \"01001;101101;11100000\"\n",
    "binaries = secret_binary_data.split(\";\")\n",
    "print(binaries)"
   ]
  },
  {
   "cell_type": "code",
   "execution_count": 185,
   "id": "60af65fe-d428-4a09-9e0d-6936fa4343f8",
   "metadata": {},
   "outputs": [
    {
     "name": "stdout",
     "output_type": "stream",
     "text": [
      "fff\tasdas\tasdadad\tasdasda\n",
      "['fff', 'asdas', 'asdadad', 'asdasda']\n"
     ]
    }
   ],
   "source": [
    "tab_delim = \"fff\\tasdas\\tasdadad\\tasdasda\"\n",
    "print(tab_delim)\n",
    "print(tab_delim.split(\"\\t\"))"
   ]
  },
  {
   "cell_type": "markdown",
   "id": "2e73fc1a-c310-40f6-9fa2-e13a1d787c96",
   "metadata": {
    "tags": []
   },
   "source": [
    "## Вызов множества методов одной строки"
   ]
  },
  {
   "cell_type": "code",
   "execution_count": 14,
   "id": "cf10715d-b7ac-4127-bbbf-646b8993ff0a",
   "metadata": {},
   "outputs": [
    {
     "name": "stdout",
     "output_type": "stream",
     "text": [
      "  \n",
      "\tThIS LooKs BAd \n",
      "this looks good\n"
     ]
    }
   ],
   "source": [
    "ugly_mixed_case = \"  \\n\\tThIS LooKs BAd \"\n",
    "print(ugly_mixed_case)\n",
    "pretty = ugly_mixed_case.strip().lower().replace(\"bad\", \"good\")\n",
    "print(pretty)"
   ]
  },
  {
   "cell_type": "markdown",
   "id": "397b838a-6f74-4c85-a954-d1bb29ef3513",
   "metadata": {},
   "source": [
    "**Важно!** Порядок методов выполняется слева направо и вдругом порядке может не сработать:"
   ]
  },
  {
   "cell_type": "code",
   "execution_count": 15,
   "id": "f8bfa07a-0d8b-4b4e-8b34-75042b6bb414",
   "metadata": {},
   "outputs": [
    {
     "name": "stdout",
     "output_type": "stream",
     "text": [
      "this looks bad\n"
     ]
    }
   ],
   "source": [
    "pretty = ugly_mixed_case.replace(\"bad\", \"good\").strip().lower()\n",
    "print(pretty)"
   ]
  },
  {
   "cell_type": "markdown",
   "id": "401496e5-5844-408e-96fd-4d9c13496179",
   "metadata": {
    "tags": []
   },
   "source": [
    "## Управляющие символы строк или [Escape characters](http://python-reference.readthedocs.io/en/latest/docs/str/escapes.html#escape-characters)"
   ]
  },
  {
   "cell_type": "code",
   "execution_count": 190,
   "id": "368a93d8-b6ec-4b6f-9570-ee712b220d60",
   "metadata": {},
   "outputs": [
    {
     "name": "stdout",
     "output_type": "stream",
     "text": [
      "First line\n",
      "Second line\n"
     ]
    }
   ],
   "source": [
    "two_lines = \"First line\\nSecond line\"\n",
    "print(two_lines)"
   ]
  },
  {
   "cell_type": "code",
   "execution_count": 48,
   "id": "5b0869c5-1c55-43b4-a84b-d93c48347086",
   "metadata": {},
   "outputs": [
    {
     "name": "stdout",
     "output_type": "stream",
     "text": [
      "\tThis will be indented\n"
     ]
    }
   ],
   "source": [
    "indented = \"\\tThis will be indented\"\n",
    "print(indented)"
   ]
  },
  {
   "cell_type": "markdown",
   "id": "02f73cd6-d3bf-4f5f-8560-8e093417ee6c",
   "metadata": {
    "tags": []
   },
   "source": [
    "# [Списки](https://docs.python.org/3/library/stdtypes.html#lists)"
   ]
  },
  {
   "cell_type": "code",
   "execution_count": 208,
   "id": "73c26553-a6f2-4a19-a4ed-4cbab62b3803",
   "metadata": {},
   "outputs": [
    {
     "name": "stdout",
     "output_type": "stream",
     "text": [
      "Пустой список: [], type: <class 'list'>\n"
     ]
    }
   ],
   "source": [
    "my_empty_list = []\n",
    "print(f\"Пустой список: {my_empty_list}, type: {type(my_empty_list)}\")"
   ]
  },
  {
   "cell_type": "code",
   "execution_count": 85,
   "id": "77984886-c37b-4b99-ba5c-9cc39dfe51ca",
   "metadata": {},
   "outputs": [
    {
     "name": "stdout",
     "output_type": "stream",
     "text": [
      "Длины строк: 4 и 6\n"
     ]
    }
   ],
   "source": [
    "list_of_ints = [1, 2, 6, 7]\n",
    "list_of_misc = [0.2, 5, \"Python\", \"is\", \"still fun\", \"!\"]\n",
    "print(f\"Длины строк: {len(list_of_ints)} и {len(list_of_misc)}\")"
   ]
  },
  {
   "cell_type": "markdown",
   "id": "8991106c-9bb2-48b4-a628-b5a6e1d3c152",
   "metadata": {
    "tags": []
   },
   "source": [
    "## Доступ к значениям"
   ]
  },
  {
   "cell_type": "code",
   "execution_count": 86,
   "id": "06760af6-0314-4682-be52-371b9544347b",
   "metadata": {},
   "outputs": [
    {
     "name": "stdout",
     "output_type": "stream",
     "text": [
      "Python\n",
      "cool\n"
     ]
    }
   ],
   "source": [
    "my_list = [\"Python\", \"is\", \"still\", \"cool\"]\n",
    "print(my_list[0])\n",
    "print(my_list[3])"
   ]
  },
  {
   "cell_type": "code",
   "execution_count": 88,
   "id": "9b67dd37-6ea8-46c9-94b2-c5a75bc57fd9",
   "metadata": {},
   "outputs": [
    {
     "name": "stdout",
     "output_type": "stream",
     "text": [
      "первая координата: [12.0, 13.3]\n",
      "второй элемент первой координаты: 13.3\n"
     ]
    }
   ],
   "source": [
    "coordinates = [[12.0, 13.3], [0.6, 18.0], [88.0, 1.1]]  # двумерный список\n",
    "print(f\"первая координата: {coordinates[0]}\")\n",
    "print(f\"второй элемент первой координаты: {coordinates[0][1]}\")"
   ]
  },
  {
   "cell_type": "markdown",
   "id": "88c737ff-b0c5-4f6b-bd2f-fe760ed45c27",
   "metadata": {},
   "source": [
    "## Обновление значений"
   ]
  },
  {
   "cell_type": "code",
   "execution_count": 55,
   "id": "bef62b6d-7da4-403f-be36-cd76a46ecb8e",
   "metadata": {},
   "outputs": [
    {
     "name": "stdout",
     "output_type": "stream",
     "text": [
      "[99, 1, 2, 3, 4, 5]\n",
      "[1, 2, 3, 4, 5]\n"
     ]
    }
   ],
   "source": [
    "my_list = [0, 1, 2, 3, 4, 5]\n",
    "my_list[0] = 99\n",
    "print(my_list)\n",
    "\n",
    "# remove first value\n",
    "del my_list[0]\n",
    "print(my_list)"
   ]
  },
  {
   "cell_type": "markdown",
   "id": "46b1efc4-ec51-448f-a64d-90aa392d9091",
   "metadata": {
    "tags": []
   },
   "source": [
    "## Проверка наличия определенного значения в списке"
   ]
  },
  {
   "cell_type": "code",
   "execution_count": 209,
   "id": "0b30af45-b40c-4d6b-b207-b4ebe749e8d1",
   "metadata": {},
   "outputs": [
    {
     "name": "stdout",
     "output_type": "stream",
     "text": [
      "Python здесь, с нами!\n"
     ]
    }
   ],
   "source": [
    "languages = [\"Java\", \"C++\", \"Go\", \"Python\", \"JavaScript\"]\n",
    "if \"Python\" in languages:\n",
    "    print(\"Python здесь, с нами!\")"
   ]
  },
  {
   "cell_type": "code",
   "execution_count": 210,
   "id": "70f43d50-0b7b-4ec9-8aa4-019879ec76f6",
   "metadata": {},
   "outputs": [
    {
     "name": "stdout",
     "output_type": "stream",
     "text": [
      "Число 6 не представлено в списке\n"
     ]
    }
   ],
   "source": [
    "if 6 not in [1, 2, 3, 7]:\n",
    "    print(\"Число 6 не представлено в списке\")"
   ]
  },
  {
   "cell_type": "markdown",
   "id": "37e7bafe-67cc-464b-b67e-4d5a4db5f77f",
   "metadata": {
    "tags": []
   },
   "source": [
    "## Список - изменяемый объект"
   ]
  },
  {
   "cell_type": "code",
   "execution_count": 92,
   "id": "78b57403-ed18-4431-a2bc-58bbb8b963ad",
   "metadata": {},
   "outputs": [
    {
     "name": "stdout",
     "output_type": "stream",
     "text": [
      "original: [99, 2, 3], modified: [99, 2, 3]\n"
     ]
    }
   ],
   "source": [
    "original = [1, 2, 3]\n",
    "modified = original\n",
    "modified[0] = 99\n",
    "print(f\"original: {original}, modified: {modified}\")"
   ]
  },
  {
   "cell_type": "markdown",
   "id": "240d6f13-38bc-4c3f-bb02-89e6112c6587",
   "metadata": {},
   "source": [
    "Такую неприятность можно обойти, создав новый `list`, например:"
   ]
  },
  {
   "cell_type": "code",
   "execution_count": 94,
   "id": "5534dd78-5a1c-4073-995e-a603ba2d01a8",
   "metadata": {},
   "outputs": [
    {
     "name": "stdout",
     "output_type": "stream",
     "text": [
      "original: [1, 2, 3], modified: [99, 2, 3]\n"
     ]
    }
   ],
   "source": [
    "original = [1, 2, 3]\n",
    "modified = list(original)  # Note list()\n",
    "# Или можно использовать метод списка `copy`\n",
    "# modified = original.copy()\n",
    "modified[0] = 99\n",
    "print(f\"original: {original}, modified: {modified}\")"
   ]
  },
  {
   "cell_type": "markdown",
   "id": "e70d9691-458a-4038-a32b-a8c6ecf9b9b2",
   "metadata": {
    "tags": []
   },
   "source": [
    "## Метод списка`list.remove()`"
   ]
  },
  {
   "cell_type": "code",
   "execution_count": 63,
   "id": "c1c874cc-a92d-4ae5-894e-f0828987f8aa",
   "metadata": {},
   "outputs": [
    {
     "name": "stdout",
     "output_type": "stream",
     "text": [
      "['Python', 'is', 'fun', 'sometimes']\n",
      "Java тут нет.\n"
     ]
    }
   ],
   "source": [
    "my_list = [\"Python\", \"is\", \"sometimes\", \"fun\", \"sometimes\"]\n",
    "my_list.remove(\"sometimes\")\n",
    "# Удаляет лишь первое вхождение значения в список\n",
    "print(my_list)\n",
    "\n",
    "# Если вы не уверены, что значение есть в списке, лучше это сначала проверить, чтобы избежать ошибок:\n",
    "\n",
    "if \"Java\" in my_list:\n",
    "    my_list.remove(\"Java\")\n",
    "else:\n",
    "    print(\"Java тут нет.\")"
   ]
  },
  {
   "cell_type": "markdown",
   "id": "24ce62c4-37e6-4733-8d34-1b0dbef2eabf",
   "metadata": {
    "tags": []
   },
   "source": [
    "## Метод list.pop()"
   ]
  },
  {
   "cell_type": "code",
   "execution_count": 76,
   "id": "968b1953-f859-4525-b55b-45ea9ac0defa",
   "metadata": {},
   "outputs": [
    {
     "name": "stdout",
     "output_type": "stream",
     "text": [
      "Go\n",
      "['Java', 'C++', 'Python', 'JavaScript']\n"
     ]
    }
   ],
   "source": [
    "languages = [\"Java\", \"C++\", \"Go\", \"Python\", \"JavaScript\"]\n",
    "# Возвращает элемент по заданному индексу и удаляет его из списка \n",
    "print(languages.pop(2))\n",
    "print(languages)"
   ]
  },
  {
   "cell_type": "markdown",
   "id": "5428d650-c818-4e4b-abd9-21028d9a3770",
   "metadata": {},
   "source": [
    "## Метод списка `list.sort()`"
   ]
  },
  {
   "cell_type": "code",
   "execution_count": 211,
   "id": "a4431de3-3d4b-4461-a705-cdcc9b648e91",
   "metadata": {},
   "outputs": [
    {
     "name": "stdout",
     "output_type": "stream",
     "text": [
      "числа: [1, 5, 6, 8, 10]\n",
      "числа задом наперед: [10, 8, 6, 5, 1]\n",
      "words: ['a', 'is', 'list', 'of', 'this', 'words']\n"
     ]
    }
   ],
   "source": [
    "numbers = [8, 1, 6, 5, 10]\n",
    "numbers.sort()\n",
    "print(f\"числа: {numbers}\")\n",
    "\n",
    "numbers.sort(reverse=True)\n",
    "print(f\"числа задом наперед: {numbers}\")\n",
    "\n",
    "words = [\"this\", \"is\", \"a\", \"list\", \"of\", \"words\"]\n",
    "words.sort()\n",
    "print(f\"words: {words}\")"
   ]
  },
  {
   "cell_type": "markdown",
   "id": "069b5ffc-37c5-4054-9bcb-8916e46e9f74",
   "metadata": {},
   "source": [
    "## `sorted(list)`\n",
    "__Важно!__ Метод `list.sort()` сортирует список \"на месте\", то есть изменяет исходный список, в отличие от него функция `sorted(list)` возвращает новый отсортированный список, оставляя при этом исходноый в оригинальном состоянии:"
   ]
  },
  {
   "cell_type": "code",
   "execution_count": 101,
   "id": "3202a080-931c-493f-9fd2-6d7fced96069",
   "metadata": {},
   "outputs": [
    {
     "name": "stdout",
     "output_type": "stream",
     "text": [
      "numbers=[8, 1, 6, 5, 10], sorted_numbers=[1, 5, 6, 8, 10]\n"
     ]
    }
   ],
   "source": [
    "numbers = [8, 1, 6, 5, 10]\n",
    "sorted_numbers = sorted(numbers)\n",
    "print(f\"{numbers=}, {sorted_numbers=}\")"
   ]
  },
  {
   "cell_type": "markdown",
   "id": "2b865025-03a3-4db1-b683-612c0adc61cb",
   "metadata": {},
   "source": [
    "## Метод списка`list.append()`"
   ]
  },
  {
   "cell_type": "code",
   "execution_count": 212,
   "id": "97ee03f5-79a6-42c7-81dd-9b7ecf6a8443",
   "metadata": {},
   "outputs": [
    {
     "name": "stdout",
     "output_type": "stream",
     "text": [
      "[1, 'ДНК']\n"
     ]
    }
   ],
   "source": [
    "my_list = [1]\n",
    "my_list.append(\"ДНК\")\n",
    "print(my_list)"
   ]
  },
  {
   "cell_type": "code",
   "execution_count": 213,
   "id": "efd5a280-d81f-4ac7-b0cb-c974c31f99be",
   "metadata": {},
   "outputs": [
    {
     "name": "stdout",
     "output_type": "stream",
     "text": [
      "[1, 'ДНК', [3, 5, 7, 'Заяц!']]\n"
     ]
    }
   ],
   "source": [
    "inner_list = [3,5,7,\"Заяц!\"]\n",
    "my_list.append(inner_list)\n",
    "print(my_list)"
   ]
  },
  {
   "cell_type": "markdown",
   "id": "f72a12d3-f4e9-4613-b5ce-1a8907afaff3",
   "metadata": {
    "tags": []
   },
   "source": [
    "## Метод списка `list.extend()`"
   ]
  },
  {
   "cell_type": "code",
   "execution_count": 103,
   "id": "10bffd30-eddc-483d-9304-5ad7450783f5",
   "metadata": {},
   "outputs": [
    {
     "name": "stdout",
     "output_type": "stream",
     "text": [
      "first_list=['beef', 'ham', 'potatoes', 1, 3], second_list=['potatoes', 1, 3]\n"
     ]
    }
   ],
   "source": [
    "first_list = [\"beef\", \"ham\"]\n",
    "second_list = [\"potatoes\", 1, 3]\n",
    "first_list.extend(second_list)\n",
    "print(f\"{first_list=}, {second_list=}\")"
   ]
  },
  {
   "cell_type": "markdown",
   "id": "f1662eb7-e779-4ecc-a585-3ac4cbfa9104",
   "metadata": {},
   "source": [
    "Списки можно расширять, просто суммируя их через +, например:"
   ]
  },
  {
   "cell_type": "code",
   "execution_count": 104,
   "id": "b795e444-896f-48b5-9d4b-5b98b59bac48",
   "metadata": {},
   "outputs": [
    {
     "name": "stdout",
     "output_type": "stream",
     "text": [
      "first=[1, 2, 3, 4, 5]\n"
     ]
    }
   ],
   "source": [
    "first = [1, 2, 3]\n",
    "second = [4, 5]\n",
    "first += second  # same as: first = first + second\n",
    "print(f\"{first=}\")"
   ]
  },
  {
   "cell_type": "markdown",
   "id": "5f5dbf3f-dd53-43f4-b132-ac12b28cf041",
   "metadata": {
    "tags": []
   },
   "source": [
    "## Метод списка `list.insert()`"
   ]
  },
  {
   "cell_type": "code",
   "execution_count": 56,
   "id": "ec714fa5-1946-4396-b236-ca0532581738",
   "metadata": {
    "tags": []
   },
   "outputs": [
    {
     "data": {
      "text/plain": [
       "[1, -5, 2, 3, 4, 5]"
      ]
     },
     "execution_count": 56,
     "metadata": {},
     "output_type": "execute_result"
    }
   ],
   "source": [
    "my_list = [0, 1, 2, 3, 4, 5]\n",
    "my_list.insert(1, -5)\n",
    "my_list"
   ]
  },
  {
   "cell_type": "markdown",
   "id": "d2993d0f-a9e9-48af-a450-0c70d934bc42",
   "metadata": {
    "tags": []
   },
   "source": [
    "## Метод списка `list.reverse()`"
   ]
  },
  {
   "cell_type": "code",
   "execution_count": 106,
   "id": "b86d1a13-b545-427e-a3f8-ab3542f1557a",
   "metadata": {
    "tags": []
   },
   "outputs": [
    {
     "name": "stdout",
     "output_type": "stream",
     "text": [
      "['Заяц', 'ham', 'b', 'a']\n"
     ]
    }
   ],
   "source": [
    "my_list = [\"a\", \"b\", \"ham\", \"Заяц\"]\n",
    "my_list.reverse()\n",
    "print(my_list)"
   ]
  },
  {
   "cell_type": "markdown",
   "id": "dcf5451f-9bfe-4d15-9da5-e71fa27843d3",
   "metadata": {
    "tags": []
   },
   "source": [
    "# [Циклы `for` продолжение](https://docs.python.org/3/tutorial/controlflow.html#for-statements)"
   ]
  },
  {
   "cell_type": "markdown",
   "id": "4faa724f-e101-4a5b-9a33-23620b04de1e",
   "metadata": {
    "tags": []
   },
   "source": [
    "## Циклы на основе списков"
   ]
  },
  {
   "cell_type": "code",
   "execution_count": null,
   "id": "57479ac6-9d07-4493-bf82-bc65789eee42",
   "metadata": {},
   "outputs": [],
   "source": [
    "my_list = [1, 2, 3, 4, \"Python\", \"is\", \"neat\"]\n",
    "for item in my_list:\n",
    "    print(item)"
   ]
  },
  {
   "cell_type": "code",
   "execution_count": 61,
   "id": "4d0d3ced-d43b-4566-877e-a486cb319fef",
   "metadata": {},
   "outputs": [
    {
     "name": "stdout",
     "output_type": "stream",
     "text": [
      "abracadabra\n"
     ]
    }
   ],
   "source": [
    "for i in [len, print]:\n",
    "    print(i(\"abracadabra\"))"
   ]
  },
  {
   "cell_type": "markdown",
   "id": "5d4c2dd0-0af0-4252-bd8a-6d3acb9d984c",
   "metadata": {
    "tags": []
   },
   "source": [
    "### Ключевое слово `break`\n",
    "Останавливает выполнение и выходит из цикла."
   ]
  },
  {
   "cell_type": "code",
   "execution_count": 132,
   "id": "c0aa0627-f646-4766-9311-c54c06c258d1",
   "metadata": {},
   "outputs": [
    {
     "name": "stdout",
     "output_type": "stream",
     "text": [
      "['Заяц', 'ham', 'b', 'a']\n",
      "Заяц\n",
      "ham\n"
     ]
    }
   ],
   "source": [
    "print(my_list)\n",
    "for item in my_list:\n",
    "    if item == \"b\":\n",
    "        break\n",
    "    print(item)"
   ]
  },
  {
   "cell_type": "markdown",
   "id": "45e5e4ce-3934-48f3-aa57-6be565a8c627",
   "metadata": {},
   "source": [
    "### Ключевое слово `continue`\n",
    "Позволяет переходить к следующей итерации цикла, не выполняя строк(и), находящихся после слова `continue` внутри цикла."
   ]
  },
  {
   "cell_type": "code",
   "execution_count": 134,
   "id": "5b6f928b-3956-4d4c-85d8-c65a2cbc72e7",
   "metadata": {},
   "outputs": [
    {
     "name": "stdout",
     "output_type": "stream",
     "text": [
      "Заяц\n",
      "b\n",
      "a\n"
     ]
    }
   ],
   "source": [
    "for item in my_list:\n",
    "    if item == \"ham\":\n",
    "        continue\n",
    "    print(item)"
   ]
  },
  {
   "cell_type": "markdown",
   "id": "6277d0d5-1ca5-4f56-8920-87567d08315c",
   "metadata": {},
   "source": [
    "### Функция `enumerate()`\n",
    "Используется в случае необходимости знать индекс элементов итеррируемого объекта:"
   ]
  },
  {
   "cell_type": "code",
   "execution_count": 135,
   "id": "fa8c0b95-1d0e-4514-8329-ed2330db5a53",
   "metadata": {},
   "outputs": [
    {
     "name": "stdout",
     "output_type": "stream",
     "text": [
      "idx: 0, value: Заяц\n",
      "idx: 1, value: ham\n",
      "idx: 2, value: b\n",
      "idx: 3, value: a\n"
     ]
    }
   ],
   "source": [
    "for idx, val in enumerate(my_list):\n",
    "    print(f\"idx: {idx}, value: {val}\")"
   ]
  },
  {
   "cell_type": "markdown",
   "id": "694eadc2-0b70-4f7d-b9a9-94c287b93440",
   "metadata": {
    "tags": []
   },
   "source": [
    "# [Кортежи](https://docs.python.org/3/library/stdtypes.html#tuple) \n",
    "Неизменяемые коллекции, можно проводить "
   ]
  },
  {
   "cell_type": "code",
   "execution_count": 18,
   "id": "47ab3d60-38b9-4392-b375-7cc904cecc25",
   "metadata": {},
   "outputs": [
    {
     "name": "stdout",
     "output_type": "stream",
     "text": [
      "Индекс равен 2\n"
     ]
    }
   ],
   "source": [
    "i = 0\n",
    "items = (1, 'abc', False, 3.33)\n",
    "#        0    1      2\n",
    "value = False\n",
    "for item in items:\n",
    "    if value == item:\n",
    "        print('Индекс равен', i)\n",
    "    else:\n",
    "        i = i + 1"
   ]
  },
  {
   "cell_type": "code",
   "execution_count": 19,
   "id": "a20a60e2-8cbe-4098-a964-09a8cf7f551c",
   "metadata": {},
   "outputs": [
    {
     "name": "stdout",
     "output_type": "stream",
     "text": [
      "0\n",
      "1\n"
     ]
    },
    {
     "data": {
      "text/plain": [
       "1"
      ]
     },
     "execution_count": 19,
     "metadata": {},
     "output_type": "execute_result"
    }
   ],
   "source": [
    "print(items.count('c'))\n",
    "print(items.count('abc'))\n",
    "items[1].count('c')"
   ]
  },
  {
   "cell_type": "code",
   "execution_count": 21,
   "id": "964c4ff5-f9ff-4def-b793-f0c9a2aa6a11",
   "metadata": {},
   "outputs": [
    {
     "data": {
      "text/plain": [
       "3"
      ]
     },
     "execution_count": 21,
     "metadata": {},
     "output_type": "execute_result"
    }
   ],
   "source": [
    "items.index(3.33)"
   ]
  },
  {
   "cell_type": "code",
   "execution_count": 31,
   "id": "20218a17-73eb-463c-b966-5e4f43c46fb6",
   "metadata": {},
   "outputs": [],
   "source": [
    "test_list = [10, 20, 30]\n",
    "test_tuple = (10, 20, 30)"
   ]
  },
  {
   "cell_type": "code",
   "execution_count": 32,
   "id": "8ba6ba5a-439e-4340-8952-b5dec9a7aaa2",
   "metadata": {},
   "outputs": [
    {
     "data": {
      "text/plain": [
       "10"
      ]
     },
     "execution_count": 32,
     "metadata": {},
     "output_type": "execute_result"
    }
   ],
   "source": [
    "test_list[0]"
   ]
  },
  {
   "cell_type": "code",
   "execution_count": 33,
   "id": "a776811e-e85d-4b94-85d8-785eb33c277d",
   "metadata": {},
   "outputs": [
    {
     "data": {
      "text/plain": [
       "10"
      ]
     },
     "execution_count": 33,
     "metadata": {},
     "output_type": "execute_result"
    }
   ],
   "source": [
    "test_tuple[0]"
   ]
  },
  {
   "cell_type": "code",
   "execution_count": 34,
   "id": "c397a497-ac22-4825-8194-70aff94c1bd2",
   "metadata": {},
   "outputs": [
    {
     "data": {
      "text/plain": [
       "3"
      ]
     },
     "execution_count": 34,
     "metadata": {},
     "output_type": "execute_result"
    }
   ],
   "source": [
    "len(test_list)"
   ]
  },
  {
   "cell_type": "code",
   "execution_count": 35,
   "id": "9434d8d3-fa98-4b9a-abdb-fcc047f6d9d1",
   "metadata": {},
   "outputs": [
    {
     "data": {
      "text/plain": [
       "3"
      ]
     },
     "execution_count": 35,
     "metadata": {},
     "output_type": "execute_result"
    }
   ],
   "source": [
    "len(test_tuple)"
   ]
  },
  {
   "cell_type": "code",
   "execution_count": 36,
   "id": "6f366e90-ee58-41f9-988e-dd6fde7e587b",
   "metadata": {},
   "outputs": [],
   "source": [
    "test_list[2] = 1000"
   ]
  },
  {
   "cell_type": "code",
   "execution_count": 37,
   "id": "9a4c3f74-3367-48a1-b783-e0cee6d92a5f",
   "metadata": {},
   "outputs": [
    {
     "data": {
      "text/plain": [
       "[10, 20, 1000]"
      ]
     },
     "execution_count": 37,
     "metadata": {},
     "output_type": "execute_result"
    }
   ],
   "source": [
    "test_list"
   ]
  },
  {
   "cell_type": "code",
   "execution_count": 38,
   "id": "6a9df644-88b7-47fd-96ec-cb013f2b07e6",
   "metadata": {},
   "outputs": [
    {
     "data": {
      "text/plain": [
       "(10, 20, 30)"
      ]
     },
     "execution_count": 38,
     "metadata": {},
     "output_type": "execute_result"
    }
   ],
   "source": [
    "test_tuple"
   ]
  },
  {
   "cell_type": "code",
   "execution_count": 39,
   "id": "f90684a3-ddff-43b4-b7e0-e5ef6eafd277",
   "metadata": {},
   "outputs": [
    {
     "ename": "TypeError",
     "evalue": "'tuple' object does not support item assignment",
     "output_type": "error",
     "traceback": [
      "\u001b[0;31m---------------------------------------------------------------------------\u001b[0m",
      "\u001b[0;31mTypeError\u001b[0m                                 Traceback (most recent call last)",
      "\u001b[0;32m/scratch/ipykernel_1631011/2796457724.py\u001b[0m in \u001b[0;36m<module>\u001b[0;34m\u001b[0m\n\u001b[0;32m----> 1\u001b[0;31m \u001b[0mtest_tuple\u001b[0m\u001b[0;34m[\u001b[0m\u001b[0;36m2\u001b[0m\u001b[0;34m]\u001b[0m \u001b[0;34m=\u001b[0m \u001b[0;36m1000\u001b[0m\u001b[0;34m\u001b[0m\u001b[0;34m\u001b[0m\u001b[0m\n\u001b[0m",
      "\u001b[0;31mTypeError\u001b[0m: 'tuple' object does not support item assignment"
     ]
    }
   ],
   "source": [
    "test_tuple[2] = 1000"
   ]
  },
  {
   "cell_type": "code",
   "execution_count": 40,
   "id": "ce1c4d84-ce55-4ab0-90b8-730ac86092cc",
   "metadata": {},
   "outputs": [
    {
     "data": {
      "text/plain": [
       "(10, 20, 30)"
      ]
     },
     "execution_count": 40,
     "metadata": {},
     "output_type": "execute_result"
    }
   ],
   "source": [
    "test_tuple"
   ]
  },
  {
   "cell_type": "code",
   "execution_count": 41,
   "id": "9be9ceda-9fea-4155-8786-0c824912436a",
   "metadata": {},
   "outputs": [
    {
     "data": {
      "text/plain": [
       "1"
      ]
     },
     "execution_count": 41,
     "metadata": {},
     "output_type": "execute_result"
    }
   ],
   "source": [
    "test_tuple.index(20)"
   ]
  },
  {
   "cell_type": "code",
   "execution_count": 42,
   "id": "529e192d-166e-49fa-b846-cc447d1f10b3",
   "metadata": {},
   "outputs": [
    {
     "data": {
      "text/plain": [
       "1"
      ]
     },
     "execution_count": 42,
     "metadata": {},
     "output_type": "execute_result"
    }
   ],
   "source": [
    "test_tuple.count(20)"
   ]
  },
  {
   "cell_type": "markdown",
   "id": "9857447f-d29c-4cf6-bb83-b5b6409138e5",
   "metadata": {
    "tags": []
   },
   "source": [
    "# [Словари](https://docs.python.org/3/library/stdtypes.html#dict) \n",
    "Коллекции, состоящие из пар `ключ`-`значение`. Словарь очень похож на список, но порядок элементов в нем не имеет значения. Каждый ключ имеет уникальное значение и может быть объектом одного из неизменяемых типов: строкой, булевой переменной, целым числом, числом с плавающей точкой, кортежем, и другими объектами. Словари можно изменять, что означает, что вы можете добавить, удалить и изменить их элементы. "
   ]
  },
  {
   "cell_type": "code",
   "execution_count": 108,
   "id": "ca890e8d-e001-4e64-9225-cf45555e43cd",
   "metadata": {},
   "outputs": [
    {
     "name": "stdout",
     "output_type": "stream",
     "text": [
      "dict: {}, type: <class 'dict'>\n"
     ]
    }
   ],
   "source": [
    "my_empty_dict = {}  # словари можно еще создавать с помощью конструктора, например так: my_empty_dict = dict()\n",
    "print(f\"dict: {my_empty_dict}, type: {type(my_empty_dict)}\")"
   ]
  },
  {
   "cell_type": "markdown",
   "id": "fb29ea37-7088-499d-94dc-bafb5ea8632e",
   "metadata": {
    "tags": []
   },
   "source": [
    "## Инициализация"
   ]
  },
  {
   "cell_type": "code",
   "execution_count": 65,
   "id": "02478aeb-9124-4464-8d6d-5391d2c3b931",
   "metadata": {},
   "outputs": [
    {
     "name": "stdout",
     "output_type": "stream",
     "text": [
      "{'key1': 1.6, 'key2': 10, 'name': 'John Wick'}\n",
      "{'value1': 1.6, 'value2': 10, 'name': 'John Wick'}\n",
      "equals: False\n",
      "length: 3\n"
     ]
    }
   ],
   "source": [
    "dict1 = {\"key1\": 1.6, \"key2\": 10, \"name\": \"John Wick\"}\n",
    "dict2 = dict(value1=1.6, value2=10, name=\"John Wick\")\n",
    "\n",
    "print(dict1)\n",
    "print(dict2)\n",
    "\n",
    "print(f\"equals: {dict1 == dict2}\")\n",
    "print(f\"length: {len(dict1)}\")"
   ]
  },
  {
   "cell_type": "markdown",
   "id": "df20018c-e231-4167-abcf-05267d4b5caf",
   "metadata": {},
   "source": [
    "## Методы словарей `dict.keys(), dict.values(), dict.items()`"
   ]
  },
  {
   "cell_type": "code",
   "execution_count": 66,
   "id": "b72f78f9-0de4-4671-8aa8-5eb424f5b351",
   "metadata": {},
   "outputs": [
    {
     "name": "stdout",
     "output_type": "stream",
     "text": [
      "keys: dict_keys(['key1', 'key2', 'name'])\n",
      "values: dict_values([1.6, 10, 'John Wick'])\n",
      "items: dict_items([('key1', 1.6), ('key2', 10), ('name', 'John Wick')])\n"
     ]
    }
   ],
   "source": [
    "print(f\"keys: {dict1.keys()}\")\n",
    "print(f\"values: {dict1.values()}\")\n",
    "print(f\"items: {dict1.items()}\")"
   ]
  },
  {
   "cell_type": "markdown",
   "id": "3f96da79-6c12-4a19-ad51-1bc44ea2595b",
   "metadata": {},
   "source": [
    "## Доступ и установка значений"
   ]
  },
  {
   "cell_type": "code",
   "execution_count": 67,
   "id": "43ec8bec-52d0-40ac-895b-39a7800e0129",
   "metadata": {},
   "outputs": [
    {
     "name": "stdout",
     "output_type": "stream",
     "text": [
      "{'key1': 'new value', 'key2': 99}\n",
      "value of key1: new value\n"
     ]
    }
   ],
   "source": [
    "my_dict = {}\n",
    "my_dict[\"key1\"] = \"value1\"\n",
    "my_dict[\"key2\"] = 99\n",
    "my_dict[\"key1\"] = \"new value\"  # переопределение существующего значения\n",
    "print(my_dict)\n",
    "print(f\"value of key1: {my_dict['key1']}\")"
   ]
  },
  {
   "cell_type": "markdown",
   "id": "4b6a1821-20cb-4ad9-9cff-98df524586d3",
   "metadata": {},
   "source": [
    "Доступ к несуществующему ключу приведет к ошибке `KeyError` (чтобы обойти эту проблему см. [Методы словарей `dict.get()`](#dict_get)):"
   ]
  },
  {
   "cell_type": "code",
   "execution_count": 68,
   "id": "58920ddc-d727-4ecb-a2bc-f533639846b8",
   "metadata": {},
   "outputs": [
    {
     "ename": "KeyError",
     "evalue": "'nope'",
     "output_type": "error",
     "traceback": [
      "\u001b[0;31m---------------------------------------------------------------------------\u001b[0m",
      "\u001b[0;31mKeyError\u001b[0m                                  Traceback (most recent call last)",
      "\u001b[0;32m/scratch/ipykernel_1631011/2978785608.py\u001b[0m in \u001b[0;36m<module>\u001b[0;34m\u001b[0m\n\u001b[0;32m----> 1\u001b[0;31m \u001b[0mprint\u001b[0m\u001b[0;34m(\u001b[0m\u001b[0mmy_dict\u001b[0m\u001b[0;34m[\u001b[0m\u001b[0;34m'nope'\u001b[0m\u001b[0;34m]\u001b[0m\u001b[0;34m)\u001b[0m\u001b[0;34m\u001b[0m\u001b[0;34m\u001b[0m\u001b[0m\n\u001b[0m",
      "\u001b[0;31mKeyError\u001b[0m: 'nope'"
     ]
    }
   ],
   "source": [
    "print(my_dict['nope'])"
   ]
  },
  {
   "cell_type": "markdown",
   "id": "280ec994-52da-4837-bebf-473028e84978",
   "metadata": {},
   "source": [
    "## Удаление"
   ]
  },
  {
   "cell_type": "code",
   "execution_count": 115,
   "id": "2fcd9e9b-bad3-4454-80c2-7b9e3971d301",
   "metadata": {},
   "outputs": [
    {
     "name": "stdout",
     "output_type": "stream",
     "text": [
      "{'key1': 'value1', 'key2': 99}\n",
      "Ключа my_key нет в этом словаре: {'key1': 'value1', 'key2': 99}\n"
     ]
    }
   ],
   "source": [
    "my_dict = {\"key1\": \"value1\", \"key2\": 99, \"keyX\": \"valueX\"}\n",
    "del my_dict[\"keyX\"]\n",
    "print(my_dict)\n",
    "\n",
    "# Обычно лучше убедиться, что ключ существует. (см. также методы pop() и popitem())\n",
    "key_to_delete = \"my_key\"\n",
    "if key_to_delete in my_dict:\n",
    "    del my_dict[key_to_delete]\n",
    "else:\n",
    "    print(f\"Ключа {key_to_delete} нет в этом словаре: {my_dict}\")"
   ]
  },
  {
   "cell_type": "markdown",
   "id": "13b6e7ef-f6fd-4eae-8d54-4fc1d57512d9",
   "metadata": {
    "tags": []
   },
   "source": [
    "## Метод словаря `dict.pop()`"
   ]
  },
  {
   "cell_type": "markdown",
   "id": "09190505-4321-4c65-b953-a6e481100941",
   "metadata": {},
   "source": [
    "Метод dict.pop() удалит и вернет значение по ключу из словоря.\n",
    "Метод dict.popitem() удалит и вернет двойной кортеж (key, value) из словаря dict. \n",
    "Пары возвращаются с конца словаря, в порядке LIFO (последним пришёл - первым ушёл)."
   ]
  },
  {
   "cell_type": "code",
   "execution_count": 72,
   "id": "5db9dfaa-c7b9-40a2-991c-c66e89bb6da2",
   "metadata": {},
   "outputs": [
    {
     "name": "stdout",
     "output_type": "stream",
     "text": [
      "dict before pops: {'food': 'ham', 'drink': 'beer', 'sport': 'football'}\n",
      "food: ham\n",
      "dict after popping food: {'drink': 'beer', 'sport': 'football'}\n",
      "food again: default value for food\n",
      "dict after popping food again: {'drink': 'beer', 'sport': 'football'}\n",
      "('sport', 'football')\n",
      "{'drink': 'beer'}\n"
     ]
    }
   ],
   "source": [
    "my_dict = dict(food=\"ham\", drink=\"beer\", sport=\"football\")\n",
    "print(f\"dict before pops: {my_dict}\")\n",
    "\n",
    "food = my_dict.pop(\"food\")\n",
    "print(f\"food: {food}\")\n",
    "print(f\"dict after popping food: {my_dict}\")\n",
    "\n",
    "food_again = my_dict.pop(\"food\", \"default value for food\")\n",
    "print(f\"food again: {food_again}\")\n",
    "print(f\"dict after popping food again: {my_dict}\")\n",
    "\n",
    "food_again = my_dict.popitem()\n",
    "print(food_again)\n",
    "print(my_dict)"
   ]
  },
  {
   "cell_type": "markdown",
   "id": "3b66261b-7e62-49b5-a509-2a70d0f7e003",
   "metadata": {},
   "source": [
    "## Словари - изменяемые контейнеры"
   ]
  },
  {
   "cell_type": "code",
   "execution_count": 121,
   "id": "18c8acc5-2336-4d06-8b7f-154d38868c8a",
   "metadata": {},
   "outputs": [
    {
     "name": "stdout",
     "output_type": "stream",
     "text": [
      "my_dict={'ham': 'good', 'carrot': 'super tasty', 'sausage': 'best ever'}\n",
      "и другой словарь: {'ham': 'good', 'carrot': 'super tasty', 'sausage': 'best ever'}\n",
      "они равны?: True\n"
     ]
    }
   ],
   "source": [
    "my_dict = {\"ham\": \"good\", \"carrot\": \"semi good\"}\n",
    "my_other_dict = my_dict\n",
    "my_other_dict[\"carrot\"] = \"super tasty\"\n",
    "my_other_dict[\"sausage\"] = \"best ever\"\n",
    "print(f\"{my_dict=}\\nи другой словарь: {my_other_dict}\")\n",
    "print(f\"они равны?: {my_dict == my_other_dict}\")"
   ]
  },
  {
   "cell_type": "markdown",
   "id": "b619772f-4dcb-4624-9ae2-5f16bc71a44e",
   "metadata": {},
   "source": [
    "Создавайте новый словарь, используя конструктор `dict` если нужно использовать копию существующего словаря:"
   ]
  },
  {
   "cell_type": "code",
   "execution_count": 122,
   "id": "bdaffcbc-03e7-40b2-a61c-431d92b3e3bd",
   "metadata": {},
   "outputs": [
    {
     "name": "stdout",
     "output_type": "stream",
     "text": [
      "my_dict={'ham': 'good', 'carrot': 'semi good'}\n",
      "и другой словарь: {'ham': 'good', 'carrot': 'semi good', 'beer': 'decent'}\n",
      "они равны?: False\n"
     ]
    }
   ],
   "source": [
    "my_dict = {\"ham\": \"good\", \"carrot\": \"semi good\"}\n",
    "my_other_dict = dict(my_dict)\n",
    "my_other_dict[\"beer\"] = \"decent\"\n",
    "print(f\"{my_dict=}\\nи другой словарь: {my_other_dict}\")\n",
    "print(f\"они равны?: {my_dict == my_other_dict}\")"
   ]
  },
  {
   "cell_type": "markdown",
   "id": "f324cac7-0665-474d-83e7-71821938794e",
   "metadata": {
    "tags": []
   },
   "source": [
    "<a id='dict_get'></a>\n",
    "## Метод словаря `dict.get()`\n",
    "Возвращает `None` если `key` не представлен в словаре `dict`. Однако можно указать значение, возвращаемое по умолчанию, которое будет возвращено, если ключ отсутствует в словаре:"
   ]
  },
  {
   "cell_type": "code",
   "execution_count": 123,
   "id": "041ca5b2-861d-47dd-a574-95306e9f52f4",
   "metadata": {},
   "outputs": [
    {
     "name": "stdout",
     "output_type": "stream",
     "text": [
      "d: None\n",
      "d: my default value\n"
     ]
    }
   ],
   "source": [
    "my_dict = {\"a\": 1, \"b\": 2, \"c\": 3}\n",
    "value_of_d = my_dict.get(\"d\")\n",
    "print(f\"d: {value_of_d}\")\n",
    "\n",
    "value_of_d = my_dict.get(\"d\", \"my default value\")\n",
    "print(f\"d: {value_of_d}\")"
   ]
  },
  {
   "cell_type": "markdown",
   "id": "38e0211b-cc8e-4836-bc7a-e0a4a7d79d06",
   "metadata": {},
   "source": [
    "## Метод словаря `dict.setdefault()`\n",
    "Возвращает значение `value` ключа `key` определенного как первый параметр. Если `key` не представлен в словаре, то такой ключ `key` добавляется со значением по умолчанию (второй параметр этого метода)."
   ]
  },
  {
   "cell_type": "code",
   "execution_count": 126,
   "id": "9cfb338f-3a74-4fe1-a623-8b7cde842daa",
   "metadata": {},
   "outputs": [
    {
     "name": "stdout",
     "output_type": "stream",
     "text": [
      "a: 1\n",
      "d: my default value\n",
      "my_dict: {'a': 1, 'b': 2, 'c': 3, 'd': 'my default value'}\n"
     ]
    }
   ],
   "source": [
    "my_dict = {\"a\": 1, \"b\": 2, \"c\": 3}\n",
    "a = my_dict.setdefault(\"a\", \"my default value\")\n",
    "d = my_dict.setdefault(\"d\", \"my default value\")\n",
    "print(f\"a: {a}\\nd: {d}\\nmy_dict: {my_dict}\")"
   ]
  },
  {
   "cell_type": "markdown",
   "id": "0ff2cfc8-5add-421d-a95b-1fa10bf52580",
   "metadata": {},
   "source": [
    "## Метод словаря `dict.update()`\n",
    "Объединяет два словаря (в `dict1` добавляется словарь `dict2`):"
   ]
  },
  {
   "cell_type": "code",
   "execution_count": 127,
   "id": "d22466b0-f1c5-4430-a089-580f74a277fe",
   "metadata": {},
   "outputs": [
    {
     "name": "stdout",
     "output_type": "stream",
     "text": [
      "{'a': 1, 'b': 2, 'c': 3}\n",
      "{'a': 1, 'b': 2, 'c': 4}\n"
     ]
    }
   ],
   "source": [
    "dict1 = {\"a\": 1, \"b\": 2}\n",
    "dict2 = {\"c\": 3}\n",
    "dict1.update(dict2)\n",
    "print(dict1)\n",
    "\n",
    "# Вот что происходит, когда ключи в двух объединяемых словарях совпадают:\n",
    "dict1.update({\"c\": 4})\n",
    "print(dict1)"
   ]
  },
  {
   "cell_type": "markdown",
   "id": "979d52b2-5afb-4772-a507-3e0804729d71",
   "metadata": {},
   "source": [
    "## Ключи словаря `dict` должны быть неизменяемыми, т.е. иметь неизменяемый тип"
   ]
  },
  {
   "cell_type": "markdown",
   "id": "f9dab8dd-f70d-4d8b-9fe4-4b090524e25d",
   "metadata": {},
   "source": [
    "Нельзя использовать список `list` или словарь `dict` как ключ словаря, т.к. они относятся к изменяемым типам:"
   ]
  },
  {
   "cell_type": "code",
   "execution_count": 128,
   "id": "35d7846b-1624-4d07-ac92-18a4088b0d96",
   "metadata": {},
   "outputs": [
    {
     "ename": "TypeError",
     "evalue": "unhashable type: 'list'",
     "output_type": "error",
     "traceback": [
      "\u001b[0;31m---------------------------------------------------------------------------\u001b[0m",
      "\u001b[0;31mTypeError\u001b[0m                                 Traceback (most recent call last)",
      "\u001b[0;32m/scratch/ipykernel_659414/447739372.py\u001b[0m in \u001b[0;36m<module>\u001b[0;34m\u001b[0m\n\u001b[0;32m----> 1\u001b[0;31m \u001b[0mbad_dict\u001b[0m \u001b[0;34m=\u001b[0m \u001b[0;34m{\u001b[0m\u001b[0;34m[\u001b[0m\u001b[0;34m'my_list'\u001b[0m\u001b[0;34m]\u001b[0m\u001b[0;34m,\u001b[0m \u001b[0;34m'value'\u001b[0m\u001b[0;34m}\u001b[0m  \u001b[0;31m# Raises TypeError\u001b[0m\u001b[0;34m\u001b[0m\u001b[0;34m\u001b[0m\u001b[0m\n\u001b[0m",
      "\u001b[0;31mTypeError\u001b[0m: unhashable type: 'list'"
     ]
    }
   ],
   "source": [
    "bad_dict = {['my_list'], 'value'}  # Raises TypeError"
   ]
  },
  {
   "cell_type": "markdown",
   "id": "649d76b8-ce99-4445-9647-4e6cb0f02ddf",
   "metadata": {},
   "source": [
    "Значения словаря могут быть изменяемыми"
   ]
  },
  {
   "cell_type": "code",
   "execution_count": 129,
   "id": "0b60f904-976e-4d29-96f9-dd6385d69d9a",
   "metadata": {},
   "outputs": [
    {
     "name": "stdout",
     "output_type": "stream",
     "text": [
      "{'my key': ['Python', 'is', 'still', 'cool']}\n"
     ]
    }
   ],
   "source": [
    "good_dict = {\"my key\": [\"Python\", \"is\", \"still\", \"cool\"]}\n",
    "print(good_dict)"
   ]
  },
  {
   "cell_type": "markdown",
   "id": "531bd899-83b8-483d-8405-1589f299c6e9",
   "metadata": {
    "tags": []
   },
   "source": [
    "## Циклы на основе словрей"
   ]
  },
  {
   "cell_type": "code",
   "execution_count": 44,
   "id": "143bacf7-52d4-49b5-af46-5a5ec8eda96c",
   "metadata": {},
   "outputs": [
    {
     "name": "stdout",
     "output_type": "stream",
     "text": [
      "hacker\n",
      "age\n",
      "name\n"
     ]
    }
   ],
   "source": [
    "my_dict = {\"hacker\": True, \"age\": 60, \"name\": \"John Wick\"}\n",
    "for val in my_dict:\n",
    "    print(val)"
   ]
  },
  {
   "cell_type": "code",
   "execution_count": 45,
   "id": "0a96415b-c75b-44d5-95a6-f7824f94acec",
   "metadata": {},
   "outputs": [
    {
     "name": "stdout",
     "output_type": "stream",
     "text": [
      "hacker = True\n",
      "age = 60\n",
      "name = John Wick\n"
     ]
    }
   ],
   "source": [
    "for key, val in my_dict.items():\n",
    "    print(f\"{key} = {val}\")"
   ]
  },
  {
   "cell_type": "markdown",
   "id": "f2eb87d3-44f0-4c15-84ba-89ca54673d26",
   "metadata": {
    "tags": []
   },
   "source": [
    "# [Множества](https://docs.python.org/3/library/stdtypes.html#set) \n",
    "Коллекции уникальных объектов. Множество похоже на словарь, значения которого опущены. Он имеет только ключи. Как и в случае со словарем, ключи должны быть уникальны."
   ]
  },
  {
   "attachments": {
    "82cba1af-d784-4ce1-b55c-89847c9a48ea.png": {
     "image/png": "[encoded data removed]"
    }
   },
   "cell_type": "markdown",
   "id": "3700aba5-c13c-492c-8955-d37bcfb1d8d3",
   "metadata": {},
   "source": [
    "![image.png](attachment:82cba1af-d784-4ce1-b55c-89847c9a48ea.png)"
   ]
  },
  {
   "cell_type": "code",
   "execution_count": 64,
   "id": "18f23af8-65f7-48ac-af04-72c1dd71d0c1",
   "metadata": {
    "tags": []
   },
   "outputs": [
    {
     "name": "stdout",
     "output_type": "stream",
     "text": [
      "{'fun', 'Python', 'sometimes', 'is'}\n"
     ]
    }
   ],
   "source": [
    "my_list = [\"Python\", \"is\", \"sometimes\", \"fun\", \"sometimes\"]\n",
    "my_set = set(my_list)\n",
    "print(my_set)\n"
   ]
  },
  {
   "cell_type": "code",
   "execution_count": 91,
   "id": "e76714bb-b88a-4c3e-aafd-badca6df74e0",
   "metadata": {},
   "outputs": [
    {
     "name": "stdout",
     "output_type": "stream",
     "text": [
      "{3, 4}\n",
      "{3, 4}\n",
      "{1, 2}\n",
      "{5, 6, 7}\n",
      "{5, 6, 7}\n",
      "False\n"
     ]
    }
   ],
   "source": [
    "#Операции с множествами\n",
    "set1 = {1, 2, 3, 4} \n",
    "set2 = {7, 3, 4, 5, 6} \n",
    "\n",
    "intersection = set1 & set2\n",
    "print(intersection)\n",
    "\n",
    "intersection = set1.intersection(set2)\n",
    "print(intersection)\n",
    "\n",
    "print(set1.difference(set2))\n",
    "print(set2.difference(set1))\n",
    "print(set2 - set1)\n",
    "\n",
    "print(set1 < set2)\n"
   ]
  },
  {
   "cell_type": "markdown",
   "id": "c444e256-904b-4ce4-b097-70f18e4d6fec",
   "metadata": {
    "tags": []
   },
   "source": [
    "## List Comprehentions - \"Формирователи\" и Generators - \"Генераторы\":)"
   ]
  },
  {
   "cell_type": "markdown",
   "id": "29e7af63-aeb7-4f76-89c8-02c56950cf9c",
   "metadata": {
    "tags": []
   },
   "source": [
    "### Списки"
   ]
  },
  {
   "cell_type": "code",
   "execution_count": 1,
   "id": "e3ea8279-642a-479f-9d1b-358de5d63b3c",
   "metadata": {},
   "outputs": [
    {
     "name": "stdout",
     "output_type": "stream",
     "text": [
      "Output List using for loop: [2, 4, 4, 6]\n"
     ]
    }
   ],
   "source": [
    "input_list = [1, 2, 3, 4, 4, 5, 6, 7, 7]\n",
    "output_list = []\n",
    "#Собираем список в цикле:\n",
    "for var in input_list:\n",
    "    if var % 2 == 0:\n",
    "        output_list.append(var)\n",
    "\n",
    "print(\"Output List using for loop:\", output_list)\n"
   ]
  },
  {
   "cell_type": "code",
   "execution_count": 2,
   "id": "b6e62435-782d-49ee-bb41-3f929ff07d9e",
   "metadata": {},
   "outputs": [
    {
     "name": "stdout",
     "output_type": "stream",
     "text": [
      "Output List using list comprehensions: [2, 4, 4, 6]\n"
     ]
    }
   ],
   "source": [
    "input_list = [1, 2, 3, 4, 4, 5, 6, 7, 7]\n",
    "#Собираем список в изящном цикле:\n",
    "list_using_comp = [var for var in input_list if var % 2 == 0]\n",
    "\n",
    "print(\"Output List using list comprehensions:\", list_using_comp)"
   ]
  },
  {
   "attachments": {
    "6a45844d-7727-456f-82d0-800108a193b5.png": {
     "image/png": "[encoded data removed]"
    }
   },
   "cell_type": "markdown",
   "id": "745db4b6-9cca-4597-8c2d-9a9699d9e0b5",
   "metadata": {},
   "source": [
    "![image.png](attachment:6a45844d-7727-456f-82d0-800108a193b5.png)"
   ]
  },
  {
   "cell_type": "code",
   "execution_count": 13,
   "id": "bf41867d-a18b-478b-a70f-1a9d80a22599",
   "metadata": {},
   "outputs": [
    {
     "name": "stdout",
     "output_type": "stream",
     "text": [
      "Output List using for loop: [1, 4, 9, 16, 25, 36, 49, 64, 81]\n"
     ]
    }
   ],
   "source": [
    "output_list = []\n",
    "for var in range(1, 10):\n",
    "    output_list.append(var ** 2)\n",
    "print(\"Output List using for loop:\", output_list)"
   ]
  },
  {
   "cell_type": "code",
   "execution_count": 14,
   "id": "053e2692-d948-467a-8056-345f1dae49a1",
   "metadata": {},
   "outputs": [
    {
     "name": "stdout",
     "output_type": "stream",
     "text": [
      "Output List using list comprehension: [1, 4, 9, 16, 25, 36, 49, 64, 81]\n"
     ]
    }
   ],
   "source": [
    "list_using_comp = [var**2 for var in range(1, 10)]\n",
    "   \n",
    "print(\"Output List using list comprehension:\", list_using_comp)"
   ]
  },
  {
   "cell_type": "code",
   "execution_count": 16,
   "id": "4130dbf5-0612-4e2e-b8b2-b439b5996c8b",
   "metadata": {},
   "outputs": [
    {
     "name": "stdout",
     "output_type": "stream",
     "text": [
      "['Bang Chan', 'Lee Know', 'Changbin', 'Hyunjin', 'Felix', 'Seungmin']\n",
      "<generator object <genexpr> at 0x7fcc8a4ea900>\n"
     ]
    }
   ],
   "source": [
    "# Новый список\n",
    "fellowship = ['Bang Chan', 'Lee Know', 'Changbin', 'Hyunjin', 'Han', 'Felix', 'Seungmin', 'I.N']\n",
    "#['frodo', 'samwise', 'merry', 'aragorn', 'legolas', 'boromir', 'gimli']\n",
    "# \"Формирователь\"\n",
    "fellow1 = [member for member in fellowship if len(member) >= 4]\n",
    "\n",
    "# Генератор\n",
    "fellow2 = (member for member in fellowship if len(member) >= 4)\n",
    "print(fellow1)\n",
    "print(fellow2)"
   ]
  },
  {
   "cell_type": "code",
   "execution_count": 12,
   "id": "86abebc1-a827-40a4-8a00-93a5b47a89b7",
   "metadata": {
    "tags": []
   },
   "outputs": [
    {
     "name": "stdout",
     "output_type": "stream",
     "text": [
      "frodo samwise merry aragorn legolas boromir gimli "
     ]
    }
   ],
   "source": [
    "for i in fellow2: \n",
    "    print(i, end=\" \") "
   ]
  },
  {
   "cell_type": "markdown",
   "id": "d6010fd0-585c-48e5-8e12-2033b59777c9",
   "metadata": {
    "tags": []
   },
   "source": [
    " ### Словари"
   ]
  },
  {
   "cell_type": "code",
   "execution_count": 29,
   "id": "59737bfc-6867-4e28-bf71-6ec35df871d5",
   "metadata": {},
   "outputs": [
    {
     "name": "stdout",
     "output_type": "stream",
     "text": [
      "Получившийся словарь:  {2: 8, 3: 27, 4: 64, 5: 125, 6: 216, 7: 343, 8: 512}\n"
     ]
    }
   ],
   "source": [
    "input_list_key = [1, 2, 3, 4, 5, 6, 7]\n",
    "\n",
    "input_list_value = [2, 3, 4, 5, 6, 7, 8]\n",
    "\n",
    "output_dict = {}\n",
    "   \n",
    "for var in input_list:\n",
    "    if var != 0:\n",
    "        output_dict[var+1] = input_list_value[input_list.index(var)]**3\n",
    "   \n",
    "print(\"Получившийся словарь: \", output_dict )"
   ]
  },
  {
   "cell_type": "code",
   "execution_count": 56,
   "id": "33a04e4c-14b7-4584-a8b3-76ffd40760a1",
   "metadata": {},
   "outputs": [
    {
     "name": "stdout",
     "output_type": "stream",
     "text": [
      "Получившийся словарь через comprehensions:  {2: 8, 3: 27, 4: 64, 5: 125, 6: 216, 7: 343, 8: 512}\n",
      "Получившийся словарь через zip: {2: 8, 3: 27, 4: 64, 5: 125, 6: 216, 7: 343, 8: 512}\n"
     ]
    }
   ],
   "source": [
    "input_list_key = [1, 2, 3, 4, 5, 6, 7]\n",
    "input_list_value = [2, 3, 4, 5, 6, 7, 8]\n",
    "   \n",
    "dict_using_comp = {var + 1:input_list_value[input_list.index(var)] ** 3 \n",
    "                   for var in input_list if var != 0}\n",
    "print(\"Получившийся словарь через comprehensions: \", dict_using_comp)   \n",
    "\n",
    "# Словарь через zip\n",
    "dict_using_zip = dict(zip(input_list_key, input_list_value))\n",
    "final_dict = {key+1:value**3 for key, value in dict_using_zip.items()}\n",
    "print(\"Получившийся словарь через zip:\", final_dict)"
   ]
  },
  {
   "cell_type": "markdown",
   "id": "0c402097-8e36-4087-bd0c-89346e476f16",
   "metadata": {
    "tags": []
   },
   "source": [
    "# Работа с файлами в Python\n",
    "Основным инструментом для работы с файлами в Python является встроенная функция open(). "
   ]
  },
  {
   "cell_type": "code",
   "execution_count": 115,
   "id": "922017cf-c527-41d2-a356-f672b8d436ef",
   "metadata": {},
   "outputs": [],
   "source": [
    "#open(file, mode=\"rt\") - значение по умолчанию\n",
    "\n",
    "f = open(\"prosto_file.txt\")\n",
    "#что-то делаем с содержимым файла\n",
    "f.close()\n"
   ]
  },
  {
   "cell_type": "markdown",
   "id": "30f365b9-fc8c-43e4-b25b-c78ad1706350",
   "metadata": {},
   "source": [
    "|Режим|Обозначение|\n",
    "|-----|-----------------------------------------------------|\n",
    "|'r'|открытие на чтение (является значением по умолчанию).|\n",
    "|'w'|открытие на запись, содержимое файла удаляется, если файла не существует, создается новый.|\n",
    "|'x'|открытие на запись, если файла не существует, иначе исключение.|\n",
    "|'a'|открытие на дозапись, информация добавляется в конец файла.|\n",
    "|'b'|открытие в двоичном режиме.|\n",
    "|'t'|открытие в текстовом режиме (является значением по умолчанию).|\n",
    "|'+'|открытие на чтение и запись|"
   ]
  },
  {
   "cell_type": "markdown",
   "id": "edecb7a8-7064-43b9-b7a4-556751077472",
   "metadata": {},
   "source": [
    "## Открытие файла и чтение"
   ]
  },
  {
   "cell_type": "code",
   "execution_count": 113,
   "id": "4947bd71-6628-4e10-b825-afce36c1143d",
   "metadata": {},
   "outputs": [
    {
     "data": {
      "text/plain": [
       "\"There was a Ba-dee-ya (dee-ya, dee-ya), say, do you remember? Ba-dee-ya (dee-ya, dee-ya), dancin' in September Ba-dee-ya (dee-ya, dee-ya), never was a cloudy day And we'll say Ba-dee-ya (dee-ya, dee-ya), say, do you remember? Ba-dee-ya (dee-ya, dee-ya), dancin' in September Ba-dee-ya (dee ya, dee-ya), golden dreams were shiny days\""
      ]
     },
     "execution_count": 113,
     "metadata": {},
     "output_type": "execute_result"
    }
   ],
   "source": [
    "file = open(\"september.ly\")\n",
    "lyrics = file.read()\n",
    "lyrics[0:100]\n",
    "#lyrics = lyrics.split(\"\\n\")\n",
    "lyrics = lyrics.strip().replace(\"\\n\",\" \")\n",
    "lyrics"
   ]
  },
  {
   "cell_type": "code",
   "execution_count": 100,
   "id": "aa47d358-8446-4919-a375-fd91ade48532",
   "metadata": {},
   "outputs": [
    {
     "name": "stdout",
     "output_type": "stream",
     "text": [
      "<class '_io.TextIOWrapper'>\n",
      "There was a\n",
      "Ba-dee-ya (dee-ya, dee-ya), say, do you remember?\n",
      "Ba-dee-ya (dee-ya, dee-ya), dancin' in September\n",
      "Ba-dee-ya (dee-ya, dee-ya), never was a cloudy day\n",
      "And we'll say\n",
      "Ba-dee-ya (dee-ya, dee-ya), say, do you remember?\n",
      "Ba-dee-ya (dee-ya, dee-ya), dancin' in September\n",
      "Ba-dee-ya (dee ya, dee-ya), golden dreams were shiny days \n",
      "\n"
     ]
    }
   ],
   "source": [
    "with open(\"september.ly\", \"r\") as f:\n",
    "    #что-то делаем с содержимым файла, например, читаем его содержимое:\n",
    "    print(type(f))\n",
    "    text = f.read()\n",
    "    print(text[:])"
   ]
  },
  {
   "cell_type": "code",
   "execution_count": 101,
   "id": "168e4ee9-281d-40e0-aa86-5a6a3c746e89",
   "metadata": {},
   "outputs": [
    {
     "data": {
      "text/plain": [
       "<_io.TextIOWrapper name='september.ly' mode='r' encoding='UTF-8'>"
      ]
     },
     "execution_count": 101,
     "metadata": {},
     "output_type": "execute_result"
    }
   ],
   "source": [
    "f\n",
    "#f.close()"
   ]
  },
  {
   "cell_type": "code",
   "execution_count": 102,
   "id": "768d68a7-f4ce-4a0a-b12a-b3794ee0a10f",
   "metadata": {},
   "outputs": [
    {
     "name": "stdout",
     "output_type": "stream",
     "text": [
      "['There was a\\n']\n",
      "['Ba', 'dee', 'ya (dee', 'ya, dee', 'ya), say, do you remember?\\n']\n",
      "['Ba', 'dee', 'ya (dee', 'ya, dee', \"ya), dancin' in September\\n\"]\n",
      "['Ba', 'dee', 'ya (dee', 'ya, dee', 'ya), never was a cloudy day\\n']\n",
      "[\"And we'll say\\n\"]\n",
      "['Ba', 'dee', 'ya (dee', 'ya, dee', 'ya), say, do you remember?\\n']\n",
      "['Ba', 'dee', 'ya (dee', 'ya, dee', \"ya), dancin' in September\\n\"]\n",
      "['Ba', 'dee', 'ya (dee ya, dee', 'ya), golden dreams were shiny days \\n']\n"
     ]
    }
   ],
   "source": [
    "with open(\"september.ly\", \"r\") as f:\n",
    "    for line in f.readlines():\n",
    "        line = line.split(\"-\")\n",
    "        print(line)"
   ]
  },
  {
   "cell_type": "code",
   "execution_count": 103,
   "id": "c152cc27-91da-42a7-809e-a5613934d23b",
   "metadata": {},
   "outputs": [
    {
     "name": "stdout",
     "output_type": "stream",
     "text": [
      "['There was a\\n', 'Ba-dee-ya (dee-ya, dee-ya), say, do you remember?\\n', \"Ba-dee-ya (dee-ya, dee-ya), dancin' in September\\n\", 'Ba-dee-ya (dee-ya, dee-ya), never was a cloudy day\\n', \"And we'll say\\n\", 'Ba-dee-ya (dee-ya, dee-ya), say, do you remember?\\n', \"Ba-dee-ya (dee-ya, dee-ya), dancin' in September\\n\", 'Ba-dee-ya (dee ya, dee-ya), golden dreams were shiny days \\n']\n"
     ]
    }
   ],
   "source": [
    "with open(\"september.ly\", \"r\") as f:\n",
    "    september_list = f.readlines()\n",
    "    print(september_list)\n",
    "    for line in f.readlines():\n",
    "        print(line)"
   ]
  },
  {
   "cell_type": "code",
   "execution_count": 104,
   "id": "f8a15225-416e-4a0e-941f-b4541eb84f29",
   "metadata": {},
   "outputs": [
    {
     "name": "stdout",
     "output_type": "stream",
     "text": [
      "There was a\n",
      "\n",
      "Ba-dee-ya (dee-ya, dee-ya), say, do you remember?\n",
      "\n",
      "Ba-dee-ya (dee-ya, dee-ya), dancin' in September\n",
      "\n",
      "Ba-dee-ya (dee-ya, dee-ya), never was a cloudy day\n",
      "\n",
      "And we'll say\n",
      "\n",
      "Ba-dee-ya (dee-ya, dee-ya), say, do you remember?\n",
      "\n",
      "Ba-dee-ya (dee-ya, dee-ya), dancin' in September\n",
      "\n",
      "Ba-dee-ya (dee ya, dee-ya), golden dreams were shiny days \n",
      "\n"
     ]
    }
   ],
   "source": [
    "with open(\"september.ly\", \"r\") as f:\n",
    "    for line in f:\n",
    "        print(line)"
   ]
  },
  {
   "cell_type": "markdown",
   "id": "ffd32c1d-df6b-4b67-8f71-c3cdae085451",
   "metadata": {
    "tags": []
   },
   "source": [
    "## Запись в файл"
   ]
  },
  {
   "cell_type": "code",
   "execution_count": 76,
   "id": "138d25c4-e66c-49a0-9cf3-0afe8086da33",
   "metadata": {},
   "outputs": [],
   "source": [
    "some_string_data = \"\"\"There was a\n",
    "Ba-dee-ya (dee-ya, dee-ya), say, do you remember?\n",
    "Ba-dee-ya (dee-ya, dee-ya), dancin' in September\n",
    "Ba-dee-ya (dee-ya, dee-ya), never was a cloudy day\n",
    "And we'll say\n",
    "Ba-dee-ya (dee-ya, dee-ya), say, do you remember?\n",
    "Ba-dee-ya (dee-ya, dee-ya), dancin' in September\n",
    "Ba-dee-ya (dee ya, dee-ya), golden dreams were shiny days\"\"\""
   ]
  },
  {
   "cell_type": "code",
   "execution_count": 77,
   "id": "ed3c84bb-9f99-4647-a7b2-eab684a931d9",
   "metadata": {},
   "outputs": [],
   "source": [
    "with open(\"september.ly\", \"w\") as f:\n",
    "    f.write(some_string_data)"
   ]
  },
  {
   "cell_type": "code",
   "execution_count": 80,
   "id": "11c11e22-fa35-4513-8d6a-b18333a615e1",
   "metadata": {},
   "outputs": [],
   "source": [
    "some_data = [0, \"Yes!\", True]\n",
    "with open(\"s_fi.le\", \"w\") as f:\n",
    "    print(some_data, file=f)"
   ]
  },
  {
   "cell_type": "code",
   "execution_count": 81,
   "id": "f1825c7a-37a5-407a-81b9-97dff06ce4e9",
   "metadata": {},
   "outputs": [],
   "source": [
    "with open(\"s_fi.le\", \"a\") as f:\n",
    "    f.writelines(some_string_data)"
   ]
  },
  {
   "cell_type": "markdown",
   "id": "2c2a7550-a3d7-4abe-adc3-886e9058cea8",
   "metadata": {
    "tags": []
   },
   "source": [
    "# [Python built-in function](https://docs.python.org/3/library/stdtypes.html#functions)\n",
    "\n",
    "Функция — это объект Python, который вы можете «вызвать» для выполнения действия или вычисления и возврата другого объекта.  Вы вызываете функцию, помещая круглые скобки справа от имени функции.  Некоторые функции позволяют передавать аргументы в круглых скобках (разделяя несколько аргументов запятой).  Внутри функции эти аргументы рассматриваются как переменные.\n",
    "Python имеет несколько полезных ***встроенных функций***, которые помогут вам работать с различными объектами и/или вашей средой.  Вот небольшая их часть:"
   ]
  },
  {
   "cell_type": "raw",
   "id": "bbb829a3-21fb-4d6a-b91f-28d94dbee91d",
   "metadata": {},
   "source": [
    "\n",
    "    type(obj) возвращает тип объекта\n",
    "    len(container) возвращает сколько элементов находится в контейнере\n",
    "    sorted(container) возвращает новый список из контейнера с отсортированными элементами\n",
    "    sum(container) вычисляет сумму контейнера чисел\n",
    "    min(container) вычисляет минимальный объект в контейнере\n",
    "    max(container) вычисляет максимальный объект в контейнере\n",
    "    abs(number) возвращает модуль числа\n",
    "    id(obj) возвращает идентификатор объекта\n",
    "    \n",
    "    Полный список встроенных функций: https://docs.python.org/3/library/functions.html\n"
   ]
  },
  {
   "cell_type": "markdown",
   "id": "9abb3c7a-0d91-4d65-a479-8c64c2d4d5e4",
   "metadata": {
    "tags": []
   },
   "source": [
    "## Собственные функции"
   ]
  },
  {
   "cell_type": "code",
   "execution_count": 56,
   "id": "6d6c03b2-156c-4d44-ad00-525e72a0dfc9",
   "metadata": {},
   "outputs": [
    {
     "data": {
      "text/plain": [
       "True"
      ]
     },
     "execution_count": 56,
     "metadata": {},
     "output_type": "execute_result"
    }
   ],
   "source": [
    "# Ключевое_слово def имя_функции(входные_параметры)\n",
    "def is_palindrome(text):\n",
    "    if text == text[::-1]:\n",
    "        return True\n",
    "    else:\n",
    "        return False\n",
    "text = \"TNT\"\n",
    "is_palindrome(text)"
   ]
  },
  {
   "cell_type": "code",
   "execution_count": 104,
   "id": "70edefac-b66d-469d-bc5d-4869926042a0",
   "metadata": {},
   "outputs": [
    {
     "name": "stdout",
     "output_type": "stream",
     "text": [
      "Не угадали\n"
     ]
    }
   ],
   "source": [
    "# У функции два позиционных параметра:\n",
    "def is_palindrome(text, syllable):\n",
    "    if text == text[::-1]:\n",
    "        if (len(text) - 1) // 2 == syllable | len(text) // 2 == syllable:\n",
    "            print(f\"В палиндроме {text} наверное {syllable} слога(ов)\")\n",
    "            #return True ничего не возвращаем\n",
    "        else:\n",
    "            print(\"Не угадали\")\n",
    "    else:\n",
    "        #return False\n",
    "        pass\n",
    "\n",
    "text_example  = \"TENET\"\n",
    "syllable_guess = 3\n",
    "#Передаём функции два аргумента:\n",
    "is_palindrome(text_example, syllable_guess)"
   ]
  },
  {
   "cell_type": "code",
   "execution_count": 103,
   "id": "53f53b9b-b3ea-43af-9619-cb14a692a6a3",
   "metadata": {},
   "outputs": [
    {
     "name": "stdout",
     "output_type": "stream",
     "text": [
      "В палиндроме TENET наверное 2 слога(ов)\n",
      "Well done\n"
     ]
    }
   ],
   "source": [
    "# Используем return:\n",
    "def is_palindrome(text, syllable):\n",
    "    if text == text[::-1]:\n",
    "        if  (len(text) - 1) // 2 == syllable | len(text) // 2 == syllable:\n",
    "            print(f\"В палиндроме {text} наверное {syllable} слога(ов)\")\n",
    "            return True\n",
    "        else:\n",
    "            print(\"Не угадали\")\n",
    "    else:\n",
    "        print(\"Не угадали\")\n",
    "        return False\n",
    "\n",
    "text_example  = \"TENET\" \n",
    "syllable_guess = 2\n",
    "\n",
    "\n",
    "if (is_palindrome(text_example, syllable_guess)):\n",
    "    print(\"Well done\")"
   ]
  },
  {
   "cell_type": "code",
   "execution_count": 117,
   "id": "8bc42965-a6db-489f-8a1e-89dc9b25cf56",
   "metadata": {},
   "outputs": [
    {
     "name": "stdout",
     "output_type": "stream",
     "text": [
      "В палиндроме TENET наверное 2 слога(ов)\n",
      "Не угадали\n",
      "Не угадали\n",
      "Well done\n"
     ]
    }
   ],
   "source": [
    "def is_palindrome(texts, syllable):\n",
    "    for text in texts:        \n",
    "        if text == text[::-1]:\n",
    "            if  (len(text) - 1) // 2 == syllable | len(text) // 2 == syllable:\n",
    "                print(f\"В палиндроме {text} наверное {syllable} слога(ов)\")\n",
    "                #return True\n",
    "            else:\n",
    "                print(\"Не угадали\")\n",
    "        \n",
    "        else:\n",
    "            print(\"Не угадали\")\n",
    "            #return False\n",
    "    return True #return завершает работу подпрограммы \n",
    "\n",
    "#Подаём на вход список слов для проверки \n",
    "text_example  = [\"TENET\", \"TENETENET\", \"WOOAOOW\"] \n",
    "syllable_guess = 2\n",
    "\n",
    "\n",
    "if (is_palindrome(text_example, syllable_guess)):\n",
    "    print(\"Well done\")"
   ]
  },
  {
   "cell_type": "code",
   "execution_count": 128,
   "id": "803b6ce6-1b4d-46d2-9f05-fe1ecc67c03e",
   "metadata": {},
   "outputs": [
    {
     "name": "stdout",
     "output_type": "stream",
     "text": [
      "TNT\n",
      "Primerchik не палиндром\n"
     ]
    },
    {
     "data": {
      "text/plain": [
       "False"
      ]
     },
     "execution_count": 128,
     "metadata": {},
     "output_type": "execute_result"
    }
   ],
   "source": [
    "#можно задавать аргументы по умолчанию\n",
    "def is_palindrome(text=\"TNT\"):\n",
    "    if text == text[::-1]:\n",
    "        print(text)\n",
    "        return True\n",
    "    else:\n",
    "        print(text,\"не палиндром\")\n",
    "        return False\n",
    "is_palindrome()\n",
    "is_palindrome(\"Primerchik\")"
   ]
  },
  {
   "cell_type": "code",
   "execution_count": 137,
   "id": "5deb8151-ad16-4977-8681-5e7eb42532a0",
   "metadata": {},
   "outputs": [
    {
     "name": "stdout",
     "output_type": "stream",
     "text": [
      "В палиндроме TENET наверное 2 слога(ов)\n"
     ]
    }
   ],
   "source": [
    "# У функции два именнованных параметра:\n",
    "def is_palindrome(syllable, text):\n",
    "    if text == text[::-1]:\n",
    "        if (len(text) - 1) // 2 == syllable | len(text) // 2 == syllable:\n",
    "            print(f\"В палиндроме {text} наверное {syllable} слога(ов)\")\n",
    "            #return True ничего не возвращаем\n",
    "        else:\n",
    "            print(\"Не угадали\")\n",
    "    else:\n",
    "        #return False\n",
    "        pass\n",
    "\n",
    "text_example  = \"TENET\"\n",
    "syllable_guess = 2\n",
    "\n",
    "#Передаём функции два аргумента (параметры именованные ):\n",
    "is_palindrome(text = text_example, syllable = syllable_guess)"
   ]
  },
  {
   "cell_type": "code",
   "execution_count": 196,
   "id": "a694a93f-735a-48b8-91fc-b614c34108bb",
   "metadata": {},
   "outputs": [
    {
     "name": "stdout",
     "output_type": "stream",
     "text": [
      "Yes\n",
      "Yes\n",
      "Sorry, no\n",
      "Sorry, no\n",
      "Yes\n",
      "Sorry, no\n",
      "\n",
      "\n",
      "Keyword\n",
      "Argument\n",
      "Check\n",
      "Complete\n"
     ]
    }
   ],
   "source": [
    "# Передача неограниченного числа позиционных аргументов и одного именованного со значением по умолчанию:\n",
    "def is_palindrome(*texts, additional_text = 'Whoops'):\n",
    "    for text in texts:\n",
    "        for arg in text:\n",
    "            if arg == arg[::-1]:\n",
    "                print(\"Yes\")\n",
    "            else:\n",
    "                print(\"Sorry, no\")\n",
    "    i = 0\n",
    "    \n",
    "    [print(additional_text[x]) for x in range(len(additional_text))]\n",
    "\n",
    "    \n",
    "text1 = [\"TNT\", \"TENET\", \"FOO FIGHTERS\"]\n",
    "text2 = [\"YOU\", \"OYOYO\", \"YEAH YEAH YEAH\"]\n",
    "text3 = [\"\\n\", \"Keyword\", \"Argument\", \"Check\", \"Complete\"]\n",
    "is_palindrome(text1, text2, additional_text = text3)"
   ]
  },
  {
   "cell_type": "markdown",
   "id": "c0ec7d69-0f46-445f-991f-915ba64530fd",
   "metadata": {
    "tags": []
   },
   "source": [
    "## Функция Map()\n",
    "Позволяет применить функцию к каждому объекту в коллекции."
   ]
  },
  {
   "cell_type": "code",
   "execution_count": 188,
   "id": "ad24a9ed-2c31-4f38-b02a-55bea3109751",
   "metadata": {},
   "outputs": [
    {
     "name": "stdout",
     "output_type": "stream",
     "text": [
      "<map object at 0x7ffb07a5c5b0>\n"
     ]
    },
    {
     "data": {
      "text/plain": [
       "[2, 4, 6, 8, 10, 12, 14, 16, 18]"
      ]
     },
     "execution_count": 188,
     "metadata": {},
     "output_type": "execute_result"
    }
   ],
   "source": [
    "def multiply(x):\n",
    "     return x*2\n",
    "    \n",
    "ls = [1, 2, 3, 4, 5, 6, 7, 8, 9]   \n",
    "r = map(multiply, ls)\n",
    "print(r)\n",
    "list(r)"
   ]
  },
  {
   "cell_type": "code",
   "execution_count": 180,
   "id": "2dc0fc9e-0a04-4299-b1f0-55ada6ff7ba8",
   "metadata": {},
   "outputs": [
    {
     "name": "stdout",
     "output_type": "stream",
     "text": [
      "<class 'map'>\n"
     ]
    },
    {
     "data": {
      "text/plain": [
       "[False, True, False]"
      ]
     },
     "execution_count": 180,
     "metadata": {},
     "output_type": "execute_result"
    }
   ],
   "source": [
    "def is_palindrome(text):\n",
    "    if text == text[::-1]:\n",
    "        return True\n",
    "    else:\n",
    "        return False\n",
    "\n",
    "    \n",
    "text = [\"YOU\", \"OYOYO\", \"YEAH YEAH YEAH\"]\n",
    "list(map(is_palindrome, text))"
   ]
  },
  {
   "cell_type": "markdown",
   "id": "0495a726-4bc9-419a-aaf7-e1b68064c185",
   "metadata": {
    "tags": []
   },
   "source": [
    "## Лямбда-функции\n",
    "Лямбда-функции — анонимные функции, не описанные в пространстве имен.\n",
    "\n",
    "Это функции без названия, предназначенные\n",
    "для однократного использования. Синтаксис их выглядит так:\n",
    "\n",
    "___lambda <аргументы> : <возвращаемое выражение>___"
   ]
  },
  {
   "cell_type": "code",
   "execution_count": 27,
   "id": "689896b5-36e2-4495-b9f7-d0862c0bb841",
   "metadata": {},
   "outputs": [
    {
     "data": {
      "text/plain": [
       "7.5"
      ]
     },
     "execution_count": 27,
     "metadata": {},
     "output_type": "execute_result"
    }
   ],
   "source": [
    "(lambda x, z: (x + 10)/z)(20,4)"
   ]
  },
  {
   "cell_type": "code",
   "execution_count": 28,
   "id": "e614f0f4-f474-4640-a6cb-cd6fae3fb49f",
   "metadata": {},
   "outputs": [
    {
     "name": "stdout",
     "output_type": "stream",
     "text": [
      "<class 'function'>\n",
      "35\n"
     ]
    }
   ],
   "source": [
    "v1 = lambda x: x + 10\n",
    "print(type(v1))\n",
    "print(v1(25))"
   ]
  },
  {
   "cell_type": "code",
   "execution_count": 1,
   "id": "19c134c1-6931-4f4e-b154-a8ee4c925240",
   "metadata": {},
   "outputs": [
    {
     "data": {
      "text/plain": [
       "<function __main__.<lambda>(x)>"
      ]
     },
     "execution_count": 1,
     "metadata": {},
     "output_type": "execute_result"
    }
   ],
   "source": [
    "lambda x: x + 10"
   ]
  },
  {
   "cell_type": "code",
   "execution_count": 191,
   "id": "e7619b35-2b89-4a3a-bbfc-820b4299fc4b",
   "metadata": {},
   "outputs": [
    {
     "data": {
      "text/plain": [
       "[1, 4, 9, 16, 25, 36, 49, 64, 81, 100]"
      ]
     },
     "execution_count": 191,
     "metadata": {},
     "output_type": "execute_result"
    }
   ],
   "source": [
    "numbers = [x for x in range(1, 11)] \n",
    "squared_numbers = list(map(lambda x: x**2, numbers))\n",
    "squared_numbers"
   ]
  },
  {
   "cell_type": "code",
   "execution_count": 195,
   "id": "05f668c5-247d-4fa2-9d57-9b4ffecaf982",
   "metadata": {},
   "outputs": [
    {
     "data": {
      "text/plain": [
       "[2, 4, 6, 8, 10]"
      ]
     },
     "execution_count": 195,
     "metadata": {},
     "output_type": "execute_result"
    }
   ],
   "source": [
    "numbers = [x for x in range(1, 11)] \n",
    "even_numbers = list(filter(lambda x: x % 2 == 0, numbers))\n",
    "even_numbers"
   ]
  },
  {
   "cell_type": "code",
   "execution_count": 21,
   "id": "7469bb5b-cc94-4772-9043-375df93e6cc3",
   "metadata": {},
   "outputs": [
    {
     "data": {
      "text/plain": [
       "True"
      ]
     },
     "execution_count": 21,
     "metadata": {},
     "output_type": "execute_result"
    }
   ],
   "source": [
    "import os\n",
    "os.path.exists(\"untitled.py\")"
   ]
  }
 ],
 "metadata": {
  "kernelspec": {
   "display_name": "Python 3 (ipykernel)",
   "language": "python",
   "name": "python3"
  },
  "language_info": {
   "codemirror_mode": {
    "name": "ipython",
    "version": 3
   },
   "file_extension": ".py",
   "mimetype": "text/x-python",
   "name": "python",
   "nbconvert_exporter": "python",
   "pygments_lexer": "ipython3",
   "version": "3.8.12"
  }
 },
 "nbformat": 4,
 "nbformat_minor": 5
}
